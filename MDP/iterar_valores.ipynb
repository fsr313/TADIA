{
 "cells": [
  {
   "cell_type": "markdown",
   "metadata": {},
   "source": [
    "definimos la estructura de un estado y una variable auxiliar que ayudara a otras funciones"
   ]
  },
  {
   "cell_type": "code",
   "execution_count": 1,
   "metadata": {},
   "outputs": [],
   "source": [
    "cartas = [1,2,3,4,5,6,7,8,9,10,11,12,13]\n",
    "struct estado\n",
    "    cartas_en_mano::Int64\n",
    "    valor_mano::Int64\n",
    "    ases::Int64\n",
    "    valor_dealer::Int64\n",
    "    es_final::Int64\n",
    "end"
   ]
  },
  {
   "cell_type": "markdown",
   "metadata": {},
   "source": [
    "A continuacion definimos como son los estados finales y les asignamos 0 si no lo son, 1 si son finales positivos y -1 si son finales negativos"
   ]
  },
  {
   "cell_type": "code",
   "execution_count": 2,
   "metadata": {},
   "outputs": [
    {
     "data": {
      "text/plain": [
       "isterminal (generic function with 1 method)"
      ]
     },
     "execution_count": 2,
     "metadata": {},
     "output_type": "execute_result"
    }
   ],
   "source": [
    "function isterminal(cartas,valor)\n",
    "    terminal = 0\n",
    "    if valor > 21\n",
    "        terminal = -1\n",
    "    else\n",
    "        if valor == 21\n",
    "            terminal = 1\n",
    "        end\n",
    "        if cartas == 4\n",
    "            terminal = 1\n",
    "        end\n",
    "    end\n",
    "    return terminal\n",
    "end"
   ]
  },
  {
   "cell_type": "markdown",
   "metadata": {},
   "source": [
    "una simple funcion auxiliar para calcular el valor de la mano"
   ]
  },
  {
   "cell_type": "code",
   "execution_count": 3,
   "metadata": {},
   "outputs": [
    {
     "data": {
      "text/plain": [
       "calcularValMano (generic function with 1 method)"
      ]
     },
     "execution_count": 3,
     "metadata": {},
     "output_type": "execute_result"
    }
   ],
   "source": [
    "function calcularValMano(mano)\n",
    "    suma = 0\n",
    "    aces = 0\n",
    "    for i in mano\n",
    "        if i == 1\n",
    "            aces += 1\n",
    "        end\n",
    "        if i > 10\n",
    "           suma += 10-i\n",
    "        end\n",
    "        suma += i\n",
    "    end\n",
    "    if aces > 0 && (suma + 10) <= 21\n",
    "        suma += 10\n",
    "    end\n",
    "    suma,aces\n",
    "end"
   ]
  },
  {
   "cell_type": "markdown",
   "metadata": {},
   "source": [
    "creamos todas las distintas formas distintas de los posibles estados existentes"
   ]
  },
  {
   "cell_type": "code",
   "execution_count": 4,
   "metadata": {},
   "outputs": [
    {
     "data": {
      "text/plain": [
       "3358-element Array{Any,1}:\n",
       " estado(2, 12, 2, 4, 0)  \n",
       " estado(2, 12, 2, 5, 0)  \n",
       " estado(2, 12, 2, 6, 0)  \n",
       " estado(2, 12, 2, 7, 0)  \n",
       " estado(2, 12, 2, 8, 0)  \n",
       " estado(2, 12, 2, 9, 0)  \n",
       " estado(2, 12, 2, 10, 0) \n",
       " estado(2, 12, 2, 11, 0) \n",
       " estado(2, 12, 2, 12, 0) \n",
       " estado(2, 12, 2, 13, 0) \n",
       " estado(2, 12, 2, 14, 0) \n",
       " estado(2, 12, 2, 15, 0) \n",
       " estado(2, 12, 2, 16, 0) \n",
       " ⋮                       \n",
       " estado(4, 40, 0, 15, -1)\n",
       " estado(4, 40, 0, 16, -1)\n",
       " estado(4, 40, 0, 17, -1)\n",
       " estado(4, 40, 0, 18, -1)\n",
       " estado(4, 40, 0, 19, -1)\n",
       " estado(4, 40, 0, 20, -1)\n",
       " estado(4, 40, 0, 21, -1)\n",
       " estado(4, 40, 0, 22, -1)\n",
       " estado(4, 40, 0, 23, -1)\n",
       " estado(4, 40, 0, 24, -1)\n",
       " estado(4, 40, 0, 25, -1)\n",
       " estado(4, 40, 0, 26, -1)"
      ]
     },
     "execution_count": 4,
     "metadata": {},
     "output_type": "execute_result"
    }
   ],
   "source": [
    "estados = []\n",
    "mano2cartas = []\n",
    "mano3cartas = []\n",
    "mano4cartas = []\n",
    "for i in cartas\n",
    "    for j in cartas\n",
    "        for d in 4:26\n",
    "            push!(mano2cartas,[i,j,d])\n",
    "        end\n",
    "    end\n",
    "end\n",
    "\n",
    "for i in cartas\n",
    "    for j in cartas\n",
    "        for k in cartas\n",
    "            for d in 4:26\n",
    "                push!(mano3cartas,[i,j,k,d])\n",
    "            end\n",
    "        end\n",
    "    end\n",
    "end\n",
    "\n",
    "for i in cartas\n",
    "    for j in cartas\n",
    "        for k in cartas\n",
    "            for l in cartas\n",
    "                for d = 4:26\n",
    "                    push!(mano4cartas,[i,j,k,l,d])\n",
    "                end\n",
    "            end\n",
    "        end\n",
    "    end\n",
    "end\n",
    "\n",
    "for i in mano2cartas\n",
    "    a,b = calcularValMano(i[1:2])\n",
    "    push!(estados,estado(2,a,b,i[3],isterminal(2,a)))\n",
    "end\n",
    "for i in mano3cartas\n",
    "    a,b = calcularValMano(i[1:3])\n",
    "    push!(estados,estado(3,a,b,i[4],isterminal(3,a)))\n",
    "end\n",
    "for i in mano4cartas\n",
    "    a,b = calcularValMano(i[1:4])\n",
    "    push!(estados,estado(4,a,b,i[5],isterminal(4,a)))\n",
    "end\n",
    "\n",
    "\n",
    "estados = unique(estados)\n",
    "estados"
   ]
  },
  {
   "cell_type": "code",
   "execution_count": 5,
   "metadata": {},
   "outputs": [
    {
     "data": {
      "text/plain": [
       "2001-element Array{Any,1}:\n",
       " estado(2, 21, 1, 4, 1)  \n",
       " estado(2, 21, 1, 5, 1)  \n",
       " estado(2, 21, 1, 6, 1)  \n",
       " estado(2, 21, 1, 7, 1)  \n",
       " estado(2, 21, 1, 8, 1)  \n",
       " estado(2, 21, 1, 9, 1)  \n",
       " estado(2, 21, 1, 10, 1) \n",
       " estado(2, 21, 1, 11, 1) \n",
       " estado(2, 21, 1, 12, 1) \n",
       " estado(2, 21, 1, 13, 1) \n",
       " estado(2, 21, 1, 14, 1) \n",
       " estado(2, 21, 1, 15, 1) \n",
       " estado(2, 21, 1, 16, 1) \n",
       " ⋮                       \n",
       " estado(4, 40, 0, 15, -1)\n",
       " estado(4, 40, 0, 16, -1)\n",
       " estado(4, 40, 0, 17, -1)\n",
       " estado(4, 40, 0, 18, -1)\n",
       " estado(4, 40, 0, 19, -1)\n",
       " estado(4, 40, 0, 20, -1)\n",
       " estado(4, 40, 0, 21, -1)\n",
       " estado(4, 40, 0, 22, -1)\n",
       " estado(4, 40, 0, 23, -1)\n",
       " estado(4, 40, 0, 24, -1)\n",
       " estado(4, 40, 0, 25, -1)\n",
       " estado(4, 40, 0, 26, -1)"
      ]
     },
     "execution_count": 5,
     "metadata": {},
     "output_type": "execute_result"
    }
   ],
   "source": [
    "estados_terminales = []\n",
    "for i in estados\n",
    "    if i.es_final != 0\n",
    "        push!(estados_terminales,i)\n",
    "    end\n",
    "end\n",
    "estados_terminales"
   ]
  },
  {
   "cell_type": "markdown",
   "metadata": {},
   "source": [
    "segregamos los estados terminales "
   ]
  },
  {
   "cell_type": "code",
   "execution_count": 6,
   "metadata": {},
   "outputs": [
    {
     "data": {
      "text/plain": [
       "0-element Array{Any,1}"
      ]
     },
     "execution_count": 6,
     "metadata": {},
     "output_type": "execute_result"
    }
   ],
   "source": [
    "estados = estados\n",
    "estados_terminales = estados_terminales\n",
    "acciones = [\"hit\",\"stand\"]\n",
    "descuento = .99\n",
    "tau = .01\n",
    "epsilon = .01\n",
    "valores = []\n",
    "politicas = []"
   ]
  },
  {
   "cell_type": "markdown",
   "metadata": {},
   "source": [
    "definimos la funcion de probabilidad de transicion, donde vemos si es posible ir a un nuevo estado o no"
   ]
  },
  {
   "cell_type": "code",
   "execution_count": 7,
   "metadata": {},
   "outputs": [
    {
     "data": {
      "text/plain": [
       "ptransicion (generic function with 1 method)"
      ]
     },
     "execution_count": 7,
     "metadata": {},
     "output_type": "execute_result"
    }
   ],
   "source": [
    "function ptransicion(e::estado, accion, e_s::estado)\n",
    "    if accion == \"stand\"\n",
    "        if e == e_s\n",
    "            return 1\n",
    "        end\n",
    "        if e.cartas_en_mano != e_s.cartas_en_mano\n",
    "            return 0\n",
    "        end\n",
    "        if (e.valor_dealer - e_s.valor_dealer) <= 9 || (e.valor_dealer - e_s.valor_dealer) == 11\n",
    "            return 1/13\n",
    "        else\n",
    "            return 4/13\n",
    "        end\n",
    "    #si la accion es hit\n",
    "    else\n",
    "        if (e.valor_mano - e_s.valor_mano) <= 9 || (e.valor_mano - e_s.valor_mano) == 11\n",
    "            return 1/13\n",
    "        else\n",
    "            return 4/13\n",
    "        end\n",
    "    end\n",
    "end"
   ]
  },
  {
   "cell_type": "markdown",
   "metadata": {},
   "source": [
    "la recompensa la tenemos previamente definida en los estados y en la funcion de checar si algo es terminal"
   ]
  },
  {
   "cell_type": "code",
   "execution_count": 8,
   "metadata": {},
   "outputs": [
    {
     "data": {
      "text/plain": [
       "recompensa (generic function with 1 method)"
      ]
     },
     "execution_count": 8,
     "metadata": {},
     "output_type": "execute_result"
    }
   ],
   "source": [
    "function recompensa(e::estado, accion, e_s::estado)\n",
    "    e_s.es_final\n",
    "end"
   ]
  },
  {
   "cell_type": "markdown",
   "metadata": {},
   "source": [
    "Iteracion por valores"
   ]
  },
  {
   "cell_type": "code",
   "execution_count": 9,
   "metadata": {},
   "outputs": [
    {
     "data": {
      "text/plain": [
       "iterar_valores (generic function with 1 method)"
      ]
     },
     "execution_count": 9,
     "metadata": {},
     "output_type": "execute_result"
    }
   ],
   "source": [
    "function iterar_valores(estados, descuento, estados_finales, acciones)\n",
    "    v = Dict(e => 0.0 for e in estados)\n",
    "    v_p = Dict(e => 0.0 for e in estados)\n",
    "    \n",
    "    converge = false\n",
    "    \n",
    "    while !converge\n",
    "        for e in keys(v)\n",
    "            if e in estados_finales\n",
    "                v[e] = recompensa(e, nothing, e)\n",
    "            else\n",
    "                v_p[e] = maximum([sum([ptransicion(e, a, e_s) * (recompensa(e, a, e_s) + descuento * v[e_s])\n",
    "                                            for e_s in estados])\n",
    "                                        for a in acciones])\n",
    "            end\n",
    "\n",
    "            converge = true\n",
    "                            \n",
    "            for e in keys(v)\n",
    "                if v_p[e] > v[e]\n",
    "                    v[e] = v_p[e]\n",
    "                    converge = false\n",
    "                end\n",
    "            end\n",
    "            \n",
    "            if converge\n",
    "                break\n",
    "            end\n",
    "        end\n",
    "    end\n",
    "    \n",
    "    politica = Dict(e => acciones[1] for e in estados)\n",
    "    \n",
    "    for e in keys(v)\n",
    "        actions_value = Dict(a => sum([ptransicion(e, a, e_s) * v[e_s] for e_s in estados])\n",
    "                            for a in acciones)\n",
    "                                \n",
    "        politica[e] = findmax(actions_value)[2]\n",
    "    end\n",
    "    \n",
    "    return politica\n",
    "end"
   ]
  },
  {
   "cell_type": "code",
   "execution_count": 10,
   "metadata": {},
   "outputs": [
    {
     "data": {
      "text/plain": [
       "Dict{estado,String} with 3358 entries:\n",
       "  estado(4, 13, 2, 10, 1)  => \"stand\"\n",
       "  estado(4, 13, 1, 17, 1)  => \"stand\"\n",
       "  estado(3, 6, 0, 23, 0)   => \"hit\"\n",
       "  estado(4, 20, 1, 12, 1)  => \"stand\"\n",
       "  estado(4, 24, 0, 6, -1)  => \"stand\"\n",
       "  estado(2, 16, 1, 7, 0)   => \"hit\"\n",
       "  estado(2, 14, 1, 23, 0)  => \"hit\"\n",
       "  estado(2, 13, 1, 11, 0)  => \"hit\"\n",
       "  estado(4, 20, 3, 11, 1)  => \"stand\"\n",
       "  estado(3, 25, 0, 6, -1)  => \"hit\"\n",
       "  estado(2, 16, 1, 9, 0)   => \"hit\"\n",
       "  estado(3, 6, 0, 7, 0)    => \"hit\"\n",
       "  estado(4, 26, 1, 25, -1) => \"stand\"\n",
       "  estado(4, 15, 1, 11, 1)  => \"stand\"\n",
       "  estado(2, 19, 1, 11, 0)  => \"hit\"\n",
       "  estado(4, 18, 1, 25, 1)  => \"stand\"\n",
       "  estado(4, 29, 1, 8, -1)  => \"hit\"\n",
       "  estado(4, 36, 0, 5, -1)  => \"hit\"\n",
       "  estado(3, 12, 0, 17, 0)  => \"hit\"\n",
       "  estado(4, 12, 2, 22, 1)  => \"stand\"\n",
       "  estado(4, 21, 2, 23, 1)  => \"stand\"\n",
       "  estado(4, 20, 1, 14, 1)  => \"stand\"\n",
       "  estado(3, 13, 1, 14, 0)  => \"hit\"\n",
       "  estado(4, 27, 1, 17, -1) => \"hit\"\n",
       "  estado(4, 19, 2, 9, 1)   => \"stand\"\n",
       "  ⋮                        => ⋮"
      ]
     },
     "execution_count": 10,
     "metadata": {},
     "output_type": "execute_result"
    }
   ],
   "source": [
    "politica = iterar_valores(estados,1,estados_terminales,acciones)\n"
   ]
  }
 ],
 "metadata": {
  "kernelspec": {
   "display_name": "Julia 1.0.0",
   "language": "julia",
   "name": "julia-1.0"
  },
  "language_info": {
   "file_extension": ".jl",
   "mimetype": "application/julia",
   "name": "julia",
   "version": "1.0.0"
  }
 },
 "nbformat": 4,
 "nbformat_minor": 2
}
