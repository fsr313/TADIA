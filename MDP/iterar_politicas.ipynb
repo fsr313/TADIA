{
 "cells": [
  {
   "cell_type": "code",
   "execution_count": 1,
   "metadata": {},
   "outputs": [
    {
     "data": {
      "text/plain": [
       "isterminal (generic function with 1 method)"
      ]
     },
     "execution_count": 1,
     "metadata": {},
     "output_type": "execute_result"
    }
   ],
   "source": [
    "cartas = [1,2,3,4,5,6,7,8,9,10,11,12,13]\n",
    "function calcularValMano(mano)\n",
    "    suma = 0\n",
    "    aces = 0\n",
    "    for i in mano\n",
    "        if i == 1\n",
    "            aces += 1\n",
    "        end\n",
    "        if i > 10\n",
    "           suma += 10-i\n",
    "        end\n",
    "        suma += i\n",
    "    end\n",
    "    if aces > 0 && (suma + 10) <= 21\n",
    "        suma += 10\n",
    "    end\n",
    "    suma,aces\n",
    "end\n",
    "function isterminal(cartas,valor)\n",
    "    terminal = 0\n",
    "    if valor > 21\n",
    "        terminal = -1\n",
    "    else\n",
    "        if valor == 21\n",
    "            terminal = 1\n",
    "        end\n",
    "        if cartas == 4\n",
    "            terminal = 1\n",
    "        end\n",
    "    end\n",
    "    return terminal\n",
    "end\n"
   ]
  },
  {
   "cell_type": "code",
   "execution_count": 2,
   "metadata": {},
   "outputs": [],
   "source": [
    "cartas = [1,2,3,4,5,6,7,8,9,10,11,12,13]\n",
    "struct estado\n",
    "    cartas_en_mano::Int64\n",
    "    valor_mano::Int64\n",
    "    ases::Int64\n",
    "    valor_dealer::Int64\n",
    "    es_final::Int64\n",
    "end"
   ]
  },
  {
   "cell_type": "code",
   "execution_count": 3,
   "metadata": {
    "scrolled": false
   },
   "outputs": [
    {
     "data": {
      "text/plain": [
       "3358-element Array{Any,1}:\n",
       " estado(2, 12, 2, 4, 0)  \n",
       " estado(2, 12, 2, 5, 0)  \n",
       " estado(2, 12, 2, 6, 0)  \n",
       " estado(2, 12, 2, 7, 0)  \n",
       " estado(2, 12, 2, 8, 0)  \n",
       " estado(2, 12, 2, 9, 0)  \n",
       " estado(2, 12, 2, 10, 0) \n",
       " estado(2, 12, 2, 11, 0) \n",
       " estado(2, 12, 2, 12, 0) \n",
       " estado(2, 12, 2, 13, 0) \n",
       " estado(2, 12, 2, 14, 0) \n",
       " estado(2, 12, 2, 15, 0) \n",
       " estado(2, 12, 2, 16, 0) \n",
       " ⋮                       \n",
       " estado(4, 40, 0, 15, -1)\n",
       " estado(4, 40, 0, 16, -1)\n",
       " estado(4, 40, 0, 17, -1)\n",
       " estado(4, 40, 0, 18, -1)\n",
       " estado(4, 40, 0, 19, -1)\n",
       " estado(4, 40, 0, 20, -1)\n",
       " estado(4, 40, 0, 21, -1)\n",
       " estado(4, 40, 0, 22, -1)\n",
       " estado(4, 40, 0, 23, -1)\n",
       " estado(4, 40, 0, 24, -1)\n",
       " estado(4, 40, 0, 25, -1)\n",
       " estado(4, 40, 0, 26, -1)"
      ]
     },
     "execution_count": 3,
     "metadata": {},
     "output_type": "execute_result"
    }
   ],
   "source": [
    "estados = []\n",
    "mano2cartas = []\n",
    "mano3cartas = []\n",
    "mano4cartas = []\n",
    "for i in cartas\n",
    "    for j in cartas\n",
    "        for d in 4:26\n",
    "            push!(mano2cartas,[i,j,d])\n",
    "        end\n",
    "    end\n",
    "end\n",
    "\n",
    "for i in cartas\n",
    "    for j in cartas\n",
    "        for k in cartas\n",
    "            for d in 4:26\n",
    "                push!(mano3cartas,[i,j,k,d])\n",
    "            end\n",
    "        end\n",
    "    end\n",
    "end\n",
    "\n",
    "for i in cartas\n",
    "    for j in cartas\n",
    "        for k in cartas\n",
    "            for l in cartas\n",
    "                for d = 4:26\n",
    "                    push!(mano4cartas,[i,j,k,l,d])\n",
    "                end\n",
    "            end\n",
    "        end\n",
    "    end\n",
    "end\n",
    "\n",
    "for i in mano2cartas\n",
    "    a,b = calcularValMano(i[1:2])\n",
    "    push!(estados,estado(2,a,b,i[3],isterminal(2,a)))\n",
    "end\n",
    "for i in mano3cartas\n",
    "    a,b = calcularValMano(i[1:3])\n",
    "    push!(estados,estado(3,a,b,i[4],isterminal(3,a)))\n",
    "end\n",
    "for i in mano4cartas\n",
    "    a,b = calcularValMano(i[1:4])\n",
    "    push!(estados,estado(4,a,b,i[5],isterminal(4,a)))\n",
    "end\n",
    "\n",
    "\n",
    "estados = unique(estados)\n",
    "estados"
   ]
  },
  {
   "cell_type": "code",
   "execution_count": 4,
   "metadata": {
    "scrolled": true
   },
   "outputs": [
    {
     "data": {
      "text/plain": [
       "2001-element Array{Any,1}:\n",
       " estado(2, 21, 1, 4, 1)  \n",
       " estado(2, 21, 1, 5, 1)  \n",
       " estado(2, 21, 1, 6, 1)  \n",
       " estado(2, 21, 1, 7, 1)  \n",
       " estado(2, 21, 1, 8, 1)  \n",
       " estado(2, 21, 1, 9, 1)  \n",
       " estado(2, 21, 1, 10, 1) \n",
       " estado(2, 21, 1, 11, 1) \n",
       " estado(2, 21, 1, 12, 1) \n",
       " estado(2, 21, 1, 13, 1) \n",
       " estado(2, 21, 1, 14, 1) \n",
       " estado(2, 21, 1, 15, 1) \n",
       " estado(2, 21, 1, 16, 1) \n",
       " ⋮                       \n",
       " estado(4, 40, 0, 15, -1)\n",
       " estado(4, 40, 0, 16, -1)\n",
       " estado(4, 40, 0, 17, -1)\n",
       " estado(4, 40, 0, 18, -1)\n",
       " estado(4, 40, 0, 19, -1)\n",
       " estado(4, 40, 0, 20, -1)\n",
       " estado(4, 40, 0, 21, -1)\n",
       " estado(4, 40, 0, 22, -1)\n",
       " estado(4, 40, 0, 23, -1)\n",
       " estado(4, 40, 0, 24, -1)\n",
       " estado(4, 40, 0, 25, -1)\n",
       " estado(4, 40, 0, 26, -1)"
      ]
     },
     "execution_count": 4,
     "metadata": {},
     "output_type": "execute_result"
    }
   ],
   "source": [
    "estados_terminales = []\n",
    "for i in estados\n",
    "    if i.es_final != 0\n",
    "        push!(estados_terminales,i)\n",
    "    end\n",
    "end\n",
    "estados_terminales"
   ]
  },
  {
   "cell_type": "code",
   "execution_count": 5,
   "metadata": {},
   "outputs": [
    {
     "data": {
      "text/plain": [
       "0-element Array{Any,1}"
      ]
     },
     "execution_count": 5,
     "metadata": {},
     "output_type": "execute_result"
    }
   ],
   "source": [
    "estados = estados\n",
    "estados_terminales = estados_terminales\n",
    "acciones = [\"hit\",\"stand\"]\n",
    "descuento = .99\n",
    "tau = .01\n",
    "epsilon = .01\n",
    "valores = []\n",
    "politicas = []"
   ]
  },
  {
   "cell_type": "code",
   "execution_count": 6,
   "metadata": {},
   "outputs": [
    {
     "data": {
      "text/plain": [
       "ptransicion (generic function with 1 method)"
      ]
     },
     "execution_count": 6,
     "metadata": {},
     "output_type": "execute_result"
    }
   ],
   "source": [
    "function ptransicion(e::estado, accion, e_s::estado)\n",
    "    if accion == \"stand\"\n",
    "        if e == e_s\n",
    "            return 1\n",
    "        end\n",
    "        if e.cartas_en_mano != e_s.cartas_en_mano\n",
    "            return 0\n",
    "        end\n",
    "        if (e.valor_dealer - e_s.valor_dealer) <= 9 || (e.valor_dealer - e_s.valor_dealer) == 11\n",
    "            return 1/13\n",
    "        else\n",
    "            return 4/13\n",
    "        end\n",
    "    #si la accion es hit\n",
    "    else\n",
    "        if (e.valor_mano - e_s.valor_mano) <= 9 || (e.valor_mano - e_s.valor_mano) == 11\n",
    "            return 1/13\n",
    "        else\n",
    "            return 4/13\n",
    "        end\n",
    "    end\n",
    "end"
   ]
  },
  {
   "cell_type": "code",
   "execution_count": 7,
   "metadata": {},
   "outputs": [
    {
     "data": {
      "text/plain": [
       "recompensa (generic function with 1 method)"
      ]
     },
     "execution_count": 7,
     "metadata": {},
     "output_type": "execute_result"
    }
   ],
   "source": [
    "function recompensa(e::estado, accion, e_s::estado)\n",
    "    e_s.es_final\n",
    "end"
   ]
  },
  {
   "cell_type": "code",
   "execution_count": 8,
   "metadata": {},
   "outputs": [
    {
     "data": {
      "text/plain": [
       "valor_politica (generic function with 1 method)"
      ]
     },
     "execution_count": 8,
     "metadata": {},
     "output_type": "execute_result"
    }
   ],
   "source": [
    "function valor_politica(estados,politica::Dict,descuento)\n",
    "    v = Dict( e => 0.0 for e in estados)\n",
    "    converge = false\n",
    "    while !converge\n",
    "        converge = true\n",
    "        for e in keys(v)\n",
    "            temp = sum([ptransicion(e,politica[e],e_s) * (recompensa(e,politica[e],e_s) + descuento * v[e_s]) for e_s in keys(v)])\n",
    "            if temp != v[e]\n",
    "                converge = false\n",
    "            end\n",
    "            v[e] = temp\n",
    "        end\n",
    "    end\n",
    "    return v\n",
    "end"
   ]
  },
  {
   "cell_type": "code",
   "execution_count": 9,
   "metadata": {},
   "outputs": [
    {
     "data": {
      "text/plain": [
       "iterar_politica (generic function with 1 method)"
      ]
     },
     "execution_count": 9,
     "metadata": {},
     "output_type": "execute_result"
    }
   ],
   "source": [
    "function iterar_politica(estados,acciones,descuento)\n",
    "    politica = Dict(e => rand(acciones) for e in estados)\n",
    "    optimo = false\n",
    "    while !optimo\n",
    "        #print(politica)\n",
    "        v = valor_politica(estados,politica,descuento)\n",
    "        for e in keys(v)\n",
    "            for a in acciones\n",
    "                temp = sum([ptransicion(e,a,e_s) * (recompensa(e,a,e_s) + descuento * v[e]) for e_s in keys(v)])\n",
    "                if temp < v[e]\n",
    "                    optimo = false\n",
    "                    politica[e] = a\n",
    "                end\n",
    "            end\n",
    "        end\n",
    "        println(politica)\n",
    "    end\n",
    "    return politica\n",
    "end"
   ]
  },
  {
   "cell_type": "code",
   "execution_count": null,
   "metadata": {
    "scrolled": false
   },
   "outputs": [],
   "source": [
    "politica = iterar_politica(estados,acciones,descuento)"
   ]
  },
  {
   "cell_type": "code",
   "execution_count": null,
   "metadata": {},
   "outputs": [],
   "source": []
  }
 ],
 "metadata": {
  "kernelspec": {
   "display_name": "Julia 1.0.0",
   "language": "julia",
   "name": "julia-1.0"
  },
  "language_info": {
   "file_extension": ".jl",
   "mimetype": "application/julia",
   "name": "julia",
   "version": "1.0.0"
  }
 },
 "nbformat": 4,
 "nbformat_minor": 2
}
