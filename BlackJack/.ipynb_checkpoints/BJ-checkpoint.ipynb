{
 "cells": [
  {
   "cell_type": "code",
   "execution_count": 2,
   "metadata": {},
   "outputs": [
    {
     "data": {
      "text/plain": [
       "13-element Array{Int64,1}:\n",
       "  1\n",
       "  2\n",
       "  3\n",
       "  4\n",
       "  5\n",
       "  6\n",
       "  7\n",
       "  8\n",
       "  9\n",
       " 10\n",
       " 11\n",
       " 12\n",
       " 13"
      ]
     },
     "execution_count": 2,
     "metadata": {},
     "output_type": "execute_result"
    }
   ],
   "source": [
    "using Combinatorics\n",
    "\n",
    "cartas = [1,2,3,4,5,6,7,8,9,10,11,12,13]"
   ]
  },
  {
   "cell_type": "code",
   "execution_count": 4,
   "metadata": {},
   "outputs": [
    {
     "data": {
      "text/plain": [
       "2366-element Array{Any,1}:\n",
       " [1, 1, 0, 0]    \n",
       " [2, 1, 0, 0]    \n",
       " [3, 1, 0, 0]    \n",
       " [4, 1, 0, 0]    \n",
       " [5, 1, 0, 0]    \n",
       " [6, 1, 0, 0]    \n",
       " [7, 1, 0, 0]    \n",
       " [8, 1, 0, 0]    \n",
       " [9, 1, 0, 0]    \n",
       " [10, 1, 0, 0]   \n",
       " [11, 1, 0, 0]   \n",
       " [12, 1, 0, 0]   \n",
       " [13, 1, 0, 0]   \n",
       " ⋮               \n",
       " [12, 12, 11, 11]\n",
       " [13, 12, 11, 11]\n",
       " [13, 13, 11, 11]\n",
       " [12, 12, 12, 11]\n",
       " [13, 12, 12, 11]\n",
       " [13, 13, 12, 11]\n",
       " [13, 13, 13, 11]\n",
       " [12, 12, 12, 12]\n",
       " [13, 12, 12, 12]\n",
       " [13, 13, 12, 12]\n",
       " [13, 13, 13, 12]\n",
       " [13, 13, 13, 13]"
      ]
     },
     "execution_count": 4,
     "metadata": {},
     "output_type": "execute_result"
    }
   ],
   "source": [
    "mano2cartas = []\n",
    "mano3cartas = []\n",
    "mano4cartas = []\n",
    "for i in cartas\n",
    "    for j in cartas\n",
    "            push!(mano2cartas,[i,j,0,0])\n",
    "    end\n",
    "end\n",
    "for i in mano2cartas\n",
    "    sort!(i, rev = true)\n",
    "end\n",
    "\n",
    "for i in cartas\n",
    "    for j in cartas\n",
    "        for k in cartas\n",
    "            push!(mano3cartas,[i,j,k])\n",
    "        end\n",
    "    end\n",
    "end\n",
    "for i in mano3cartas\n",
    "    sort!(i, rev = true)\n",
    "end\n",
    "for i in cartas\n",
    "    for j in cartas\n",
    "        for k in cartas\n",
    "            for m in cartas\n",
    "                push!(mano4cartas,[i,j,k,m])\n",
    "            end\n",
    "        end\n",
    "    end\n",
    "end\n",
    "for i in mano4cartas\n",
    "    sort!(i, rev = true)\n",
    "end\n",
    "manos = vcat(mano2cartas,mano3cartas,mano4cartas)\n",
    "manos = unique(manos)"
   ]
  },
  {
   "cell_type": "code",
   "execution_count": 6,
   "metadata": {},
   "outputs": [
    {
     "data": {
      "text/html": [
       "13"
      ],
      "text/plain": [
       "13"
      ]
     },
     "execution_count": 6,
     "metadata": {},
     "output_type": "execute_result"
    }
   ],
   "source": [
    "function calcularValMano(mano)\n",
    "    suma = 0\n",
    "    aces = 0\n",
    "    for i in mano\n",
    "        if i == 1\n",
    "            aces += 1\n",
    "        end\n",
    "        if i > 10\n",
    "           suma += 10-i\n",
    "        end\n",
    "        suma += i\n",
    "    end\n",
    "    if aces > 0 && (suma + 10) <= 21\n",
    "        suma += 10\n",
    "    end\n",
    "    suma\n",
    "end\n",
    "calcularValMano([1,1,1])"
   ]
  },
  {
   "cell_type": "code",
   "execution_count": 15,
   "metadata": {},
   "outputs": [
    {
     "data": {
      "text/html": [
       "0.07692307692307693"
      ],
      "text/plain": [
       "0.07692307692307693"
      ]
     },
     "execution_count": 15,
     "metadata": {},
     "output_type": "execute_result"
    }
   ],
   "source": [
    "#mdp_estados = manos\n",
    "mdp_acciones() = [\"jalar\",\"quedarse\"]\n",
    "function mdp_estados(estado)\n",
    "    siguientesEstados = []\n",
    "    for i in cartas\n",
    "        push!(siguientesEstados,append!(copy(estado),i))\n",
    "    end\n",
    "    siguientesEstados\n",
    "end\n",
    "function mdp_p(estado,accion,siguiente_estado)\n",
    "    probabilidad = 0\n",
    "    if accion == \"jalar\"\n",
    "        probabilidad = 1/13\n",
    "    end\n",
    "end"
   ]
  },
  {
   "cell_type": "code",
   "execution_count": null,
   "metadata": {},
   "outputs": [],
   "source": []
  }
 ],
 "metadata": {
  "kernelspec": {
   "display_name": "Julia 1.0.0",
   "language": "julia",
   "name": "julia-1.0"
  },
  "language_info": {
   "file_extension": ".jl",
   "mimetype": "application/julia",
   "name": "julia",
   "version": "1.0.0"
  }
 },
 "nbformat": 4,
 "nbformat_minor": 2
}
