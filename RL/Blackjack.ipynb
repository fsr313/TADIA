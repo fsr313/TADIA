{
 "cells": [
  {
   "cell_type": "code",
   "execution_count": 1,
   "metadata": {},
   "outputs": [],
   "source": [
    "import Plots\n",
    "Plots.pyplot();"
   ]
  },
  {
   "cell_type": "code",
   "execution_count": 2,
   "metadata": {},
   "outputs": [
    {
     "data": {
      "text/plain": [
       "2-element Array{Int64,1}:\n",
       " 1\n",
       " 2"
      ]
     },
     "execution_count": 2,
     "metadata": {},
     "output_type": "execute_result"
    }
   ],
   "source": [
    "# probability for exploration\n",
    "EPSILON = 0.5\n",
    "\n",
    "# step size\n",
    "ALPHA = 0.5\n",
    "\n",
    "# gamma for Q-Learning and Expected Sarsa\n",
    "GAMMA = 1\n",
    "\n",
    "# all possible actions\n",
    "HIT = 1\n",
    "STAND = 2\n",
    "ACTIONS = [HIT,STAND]\n",
    "# [x,y,z,d]\n",
    "# x valor mano jugador 2:22\n",
    "# y numero cartas jugador \n",
    "# z 0 si no ha ganado, 1 si ya gano\n",
    "# d valor mano dealer 2:22\n",
    "# initial state action pair values\n"
   ]
  },
  {
   "cell_type": "code",
   "execution_count": 3,
   "metadata": {},
   "outputs": [
    {
     "data": {
      "text/plain": [
       "START (generic function with 1 method)"
      ]
     },
     "execution_count": 3,
     "metadata": {},
     "output_type": "execute_result"
    }
   ],
   "source": [
    "function START()\n",
    "    state = [0,1,1,0]\n",
    "    new_card_player = rand([1,2,3,4,5,6,7,8,9,10,10,10,10])\n",
    "    new_card_dealer = rand([1,2,3,4,5,6,7,8,9,10,10,10,10])\n",
    "    if new_card_player == 1\n",
    "        state[1] += 11\n",
    "    else\n",
    "        state[1] += new_card_player\n",
    "    end\n",
    "    if new_card_dealer == 1\n",
    "        state[4] += 11\n",
    "    else\n",
    "        state[4] += new_card_dealer\n",
    "    end\n",
    "    return state\n",
    "end"
   ]
  },
  {
   "cell_type": "code",
   "execution_count": 4,
   "metadata": {},
   "outputs": [
    {
     "data": {
      "text/plain": [
       "step (generic function with 1 method)"
      ]
     },
     "execution_count": 4,
     "metadata": {},
     "output_type": "execute_result"
    }
   ],
   "source": [
    "function step(last_state, action)\n",
    "    x, y, z, d = last_state\n",
    "    state = [x, y, z, d]\n",
    "    if action == HIT\n",
    "        new_card = rand([1,2,3,4,5,6,7,8,9,10,10,10,10])\n",
    "        if new_card == 1\n",
    "            if state[1] + 11 < 22\n",
    "                state[1] += 11\n",
    "            else\n",
    "                state[1] += 1\n",
    "            end\n",
    "        else\n",
    "            state[1] += new_card\n",
    "        end\n",
    "        state[2] += 1\n",
    "        if state[1] > 21\n",
    "            return START(), -100\n",
    "        elseif state[2] == 4\n",
    "            state[3] = 2\n",
    "        end\n",
    "        return state, -1\n",
    "    elseif action == STAND\n",
    "        cards = 1\n",
    "        for i in 1:3\n",
    "            cards += 1\n",
    "            new_card = rand([1,2,3,4,5,6,7,8,9,10,10,10,10])\n",
    "            if new_card == 1\n",
    "                if state[4] + 11 <22\n",
    "                    state[4] += 11\n",
    "                else\n",
    "                    state[4] +=1\n",
    "                end\n",
    "            else\n",
    "                state[4] += new_card\n",
    "            end\n",
    "            if state[4] > 21\n",
    "                state[4] = 22\n",
    "                break\n",
    "            elseif state[4] > 16\n",
    "                break\n",
    "            end\n",
    "        end\n",
    "        if cards == 4 && state[4] <= 21\n",
    "            return START(), -100\n",
    "        elseif state[4] > state[1]\n",
    "            return START(), -100\n",
    "        elseif state[4] > 21\n",
    "            state[3] = 2\n",
    "        end            \n",
    "    end\n",
    "    return state, -1\n",
    "end"
   ]
  },
  {
   "cell_type": "code",
   "execution_count": 5,
   "metadata": {},
   "outputs": [
    {
     "data": {
      "text/plain": [
       "q_learning (generic function with 2 methods)"
      ]
     },
     "execution_count": 5,
     "metadata": {},
     "output_type": "execute_result"
    }
   ],
   "source": [
    "function q_learning(q_value, step_size = ALPHA)\n",
    "    state = START()\n",
    "    rewards = 0.0\n",
    "    while state[3] != 2\n",
    "        action = choose_action(state, q_value)\n",
    "        next_state, reward = step(state, action)\n",
    "        rewards += reward\n",
    "        # Q-Learning update\n",
    "        q_value[state[1], state[2],state[3],state[4], action] += step_size * (\n",
    "                reward + GAMMA * maximum(q_value[next_state[1], next_state[2], next_state[3], next_state[4], :]) -\n",
    "                q_value[state[1], state[2], state[3], state[4], action])\n",
    "        state = next_state\n",
    "    end\n",
    "    return rewards\n",
    "end"
   ]
  },
  {
   "cell_type": "code",
   "execution_count": 6,
   "metadata": {},
   "outputs": [
    {
     "data": {
      "text/plain": [
       "choose_action (generic function with 1 method)"
      ]
     },
     "execution_count": 6,
     "metadata": {},
     "output_type": "execute_result"
    }
   ],
   "source": [
    "function choose_action(state, q_value)\n",
    "    if rand(1)[1] < EPSILON\n",
    "        return ACTIONS[rand(1:2)]\n",
    "    else\n",
    "        values_ = q_value[state[1], state[2], state[3], state[4], :]\n",
    "        action = []\n",
    "        for i in enumerate(values_)\n",
    "            action_,value_ = i\n",
    "            if value_ == maximum(values_)\n",
    "                push!(action,action_)\n",
    "            end\n",
    "        end\n",
    "        action = action[rand(1:length(action))]\n",
    "        return action\n",
    "    end\n",
    "end"
   ]
  },
  {
   "cell_type": "code",
   "execution_count": 11,
   "metadata": {},
   "outputs": [
    {
     "name": "stdout",
     "output_type": "stream",
     "text": [
      "xd\n"
     ]
    }
   ],
   "source": [
    "episodes = 5000\n",
    "runs = 50\n",
    "rewards_q_learning = zeros(episodes)\n",
    "\n",
    "q_q_learning = []\n",
    "\n",
    "for r in 1:runs  \n",
    "    q_q_learning = zeros(21, 4, 2, 21, 2)\n",
    "\n",
    "    for i in 1:episodes\n",
    "        rewards_q_learning[i] += q_learning(q_q_learning)\n",
    "\n",
    "    end\n",
    "end\n",
    "\n",
    "rewards_q_learning /= runs\n",
    "println(\"xd\")\n"
   ]
  },
  {
   "cell_type": "code",
   "execution_count": 12,
   "metadata": {},
   "outputs": [
    {
     "data": {
      "image/png": "[encoded data removed]"
     },
     "execution_count": 12,
     "metadata": {},
     "output_type": "execute_result"
    }
   ],
   "source": [
    "# draw reward curves\n",
    "Plots.plot(rewards_q_learning, label=\"Q-Learning\", fmt = :png)\n",
    "Plots.xaxis!(\"Episodes\")\n",
    "Plots.yaxis!(\"Sum of rewards during episode\")"
   ]
  }
 ],
 "metadata": {
  "kernelspec": {
   "display_name": "Julia 1.0.2",
   "language": "julia",
   "name": "julia-1.0"
  },
  "language_info": {
   "file_extension": ".jl",
   "mimetype": "application/julia",
   "name": "julia",
   "version": "1.0.2"
  }
 },
 "nbformat": 4,
 "nbformat_minor": 2
}
