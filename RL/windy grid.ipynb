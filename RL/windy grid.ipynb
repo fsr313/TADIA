{
 "cells": [
  {
   "cell_type": "markdown",
   "metadata": {},
   "source": [
    "# Windy Grid\n",
    "---\n",
    "Tenemos un mundo cuadriculado donde podemos caminar en 4 direcciones distintas, arriba, abajo, izquierda y derecha, no se pueden atravesar paredes. El objetivo principal es llegar de un punto a otro, pero existe un elemento al que se llama \"viento\", en algunas columnas existe una fuerza de otro mundo que nos movera hacia arriba si caminamos hacia esa columna.\n",
    "\n",
    "Para resolver el problema utilizaremos aprendizaje por refuerzo, definiremos el problema un paso un episodio y lo que es aprendizaje de esto"
   ]
  },
  {
   "cell_type": "code",
   "execution_count": 10,
   "metadata": {},
   "outputs": [],
   "source": [
    "using PyPlot\n",
    "ioff()"
   ]
  },
  {
   "cell_type": "markdown",
   "metadata": {},
   "source": [
    "Iniciamos definiendo el tamano de nuestro mundo cuadriculado, en este caso es un mundo de 7x10. Posterior a esto definimos en que columnas el viento va afectar a nuestro individuo en su movimiento. A su vez definiremos donde va a empezar nuestro individuo y cual es el objetivo a alcanzar. \n",
    "definimos que es la recompensa, que es el alpha y la probabilidad de aprendizaje."
   ]
  },
  {
   "cell_type": "code",
   "execution_count": 11,
   "metadata": {},
   "outputs": [],
   "source": [
    "WORLD_HEIGHT = 7\n",
    "WORLD_WIDTH = 10\n",
    "WIND = [0, 0, 0, 1, 1, 1, 2, 2, 1, 0]\n",
    "\n",
    "ACTION_UP = 1\n",
    "ACTION_DOWN = 2\n",
    "ACTION_LEFT = 3\n",
    "ACTION_RIGHT = 4\n",
    "START = [4,1]\n",
    "GOAL = [4,8]\n",
    "\n",
    "EPSILON = 0.1\n",
    "ALPHA = .5\n",
    "REWARD = -1\n",
    "\n",
    "ACTIONS = [ACTION_UP,ACTION_DOWN,ACTION_LEFT,ACTION_RIGHT];"
   ]
  },
  {
   "cell_type": "markdown",
   "metadata": {},
   "source": [
    "# Un Paso\n",
    "---\n",
    "Un paso hace una accion, si la columna a donde se movio es una columna con viento, tambien se mueve hacia arriba\n"
   ]
  },
  {
   "cell_type": "code",
   "execution_count": 12,
   "metadata": {},
   "outputs": [
    {
     "data": {
      "text/plain": [
       "step (generic function with 1 method)"
      ]
     },
     "execution_count": 12,
     "metadata": {},
     "output_type": "execute_result"
    }
   ],
   "source": [
    "function step(state, action)\n",
    "    i, j = state\n",
    "    if action == ACTION_UP\n",
    "        return [max(i - 1 - WIND[j], 1), j]\n",
    "        \n",
    "    elseif action == ACTION_DOWN\n",
    "         return [max(min(i + 1 - WIND[j], WORLD_HEIGHT), 1), j]\n",
    "        \n",
    "    elseif action == ACTION_LEFT\n",
    "        return [max(i - WIND[j], 1), max(j - 1, 1)]\n",
    "        \n",
    "    elseif action == ACTION_RIGHT\n",
    "        return [max(i - WIND[j], 1), min(j + 1, WORLD_WIDTH)]\n",
    "    end\n",
    "end"
   ]
  },
  {
   "cell_type": "markdown",
   "metadata": {},
   "source": [
    "### Un episodio\n",
    "---\n",
    "En si un episodio es el repetir pasos hasta que se llegue a un objetivo o hasta que llegue a un limite que se haya impuesto.\n",
    "\n",
    "---\n",
    "### exploracion y explotacion\n",
    "---\n",
    "exploracion en este contexto le llamamos a que vamos a elegir algo que no sea lo mejor que conocemos al momento, con una probabilidad de epsilon, haremos esto que llamamos exploracion, donde simplemente elegiremos al azar una de las acciones, con el objetivo de precisamente explorar mas acciones. LINEA 8 y LINEA 26\n",
    "\n",
    "Explotacion en este contexto le llamamos a elegir el mejor candidato que conocemos, en este problema es simplemente elegir en la tabla q cual es la mejor accion que posible. LINEA 10 y LINEA 28\n",
    "\n",
    "---\n",
    "# Sarsa\n",
    "---\n",
    "Sarsa es un algoritmo de aprendizaje para politicas de procesos de decision markoviana. Se basa en una tabla de \"valores Q\", el algoritmo es bastante sencillo y facil de comprender, dados un estado, una accion, una recompensa, el siguiente estado y la siguiente accion, se puede actualzar la tabla Q en el estado y en la accion. dado (s, a, r, s+1, a+1) \n",
    "Q(s,a) = Q(s,a) + α( r + γ * Q(s+1,a+1) - Q(s,a)) LINEA 40\n",
    "\n",
    "Se aplica sarsa iterativamente hasta llegar al final del episodio o a un limite predefinido, donde siempre se va a calcular la nueva accion o se elegira una al azar dependiendo de si se realiza exploracion o explotacion"
   ]
  },
  {
   "cell_type": "code",
   "execution_count": 13,
   "metadata": {},
   "outputs": [
    {
     "data": {
      "text/plain": [
       "episode (generic function with 1 method)"
      ]
     },
     "execution_count": 13,
     "metadata": {},
     "output_type": "execute_result"
    }
   ],
   "source": [
    "function episode(q_value)\n",
    "    # track the total time steps in this episode\n",
    "    time = 0\n",
    "    \n",
    "    # initialize state\n",
    "    state = START\n",
    "    # choose an action based on epsilon-greedy algorithm\n",
    "    if rand(1)[1] < EPSILON\n",
    "        action = ACTIONS[rand(1:4)]\n",
    "    else\n",
    "        values_ = q_value[state[1], state[2], :]\n",
    "        action = []\n",
    "        for i in enumerate(values_)\n",
    "            action_,value_ = i\n",
    "            if value_ == maximum(values_)\n",
    "                push!(action,action_)\n",
    "            end\n",
    "        end\n",
    "        action = action[rand(1:length(action))]\n",
    "    end\n",
    "    \n",
    "    # keep going until get to the goal state\n",
    "    while state != GOAL\n",
    "\n",
    "        next_state = step(state,action)\n",
    "        if rand(1)[1] < EPSILON\n",
    "            next_action = ACTIONS[rand(1:4)]\n",
    "        else\n",
    "            values_ = q_value[next_state[1], next_state[2], :]\n",
    "            next_action = []\n",
    "            for i in enumerate(values_)\n",
    "                action_,value_ = i\n",
    "                if value_ == maximum(values_)\n",
    "                    push!(next_action,action_)\n",
    "                end\n",
    "            end\n",
    "            next_action = next_action[rand(1:length(next_action))]\n",
    "        end\n",
    "        # Sarsa update\n",
    "        q_value[state[1], state[2], action] += ALPHA * (REWARD + q_value[next_state[1], next_state[2], next_action] - q_value[state[1], state[2], action])\n",
    "        state = next_state\n",
    "        action = next_action\n",
    "        time += 1\n",
    "    end\n",
    "\n",
    "    return time\n",
    "end"
   ]
  },
  {
   "cell_type": "code",
   "execution_count": 14,
   "metadata": {},
   "outputs": [
    {
     "data": {
      "text/plain": [
       "print_optimal_policy (generic function with 1 method)"
      ]
     },
     "execution_count": 14,
     "metadata": {},
     "output_type": "execute_result"
    }
   ],
   "source": [
    "function print_optimal_policy(q_value)\n",
    "    optimal_policy = []\n",
    "    for i in range(1, stop=WORLD_HEIGHT)\n",
    "        push!(optimal_policy,[])\n",
    "        for j in range(1, stop=WORLD_WIDTH)\n",
    "            if [i, j] == GOAL\n",
    "                append!(optimal_policy[end], 'G')\n",
    "                continue\n",
    "            end\n",
    "            bestAction = argmax(q_value[i, j, :])\n",
    "            if bestAction == ACTION_UP\n",
    "                append!(optimal_policy[end], '↑')\n",
    "            elseif bestAction == ACTION_DOWN\n",
    "                append!(optimal_policy[end], '↓')\n",
    "            elseif bestAction == ACTION_LEFT\n",
    "                append!(optimal_policy[end], '←')\n",
    "            elseif bestAction == ACTION_RIGHT\n",
    "                append!(optimal_policy[end], '→')\n",
    "            end\n",
    "        end\n",
    "    end\n",
    "    for row in optimal_policy\n",
    "        println(row)\n",
    "    end\n",
    "end"
   ]
  },
  {
   "cell_type": "markdown",
   "metadata": {},
   "source": [
    "# iterar episodios\n",
    "---\n",
    "En este ultimo cuadro antes de los resultados se ve como se corre el algoritmo para un numero de n episodios"
   ]
  },
  {
   "cell_type": "code",
   "execution_count": 15,
   "metadata": {},
   "outputs": [
    {
     "data": {
      "text/plain": [
       "runagent (generic function with 1 method)"
      ]
     },
     "execution_count": 15,
     "metadata": {},
     "output_type": "execute_result"
    }
   ],
   "source": [
    "function runagent(n)\n",
    "    q_value = zeros((WORLD_HEIGHT,WORLD_WIDTH,4))\n",
    "\n",
    "    steps = []\n",
    "    ep = 0\n",
    "    while ep < n\n",
    "        push!(steps,episode(q_value))\n",
    "        ep+=1\n",
    "    end\n",
    "    println(\"SARSA Optimal Policy:\")\n",
    "    print_optimal_policy(q_value)\n",
    "    println(\"\")\n",
    "    return steps\n",
    "end\n"
   ]
  },
  {
   "cell_type": "code",
   "execution_count": 16,
   "metadata": {},
   "outputs": [
    {
     "name": "stdout",
     "output_type": "stream",
     "text": [
      "Any['↑', '↑', '↑', '↑', '↑', '↑', '↑', '↑', '↑', '↑']\n",
      "Any['↑', '↑', '↑', '↑', '↑', '↑', '↑', '↑', '↑', '↑']\n",
      "Any['↑', '↑', '↑', '↑', '↑', '↑', '↑', '↑', '↑', '↑']\n",
      "Any['↑', '↑', '↑', '↑', '↑', '↑', '↑', 'G', '↑', '↑']\n",
      "Any['↑', '↑', '↑', '↑', '↑', '↑', '↑', '↑', '↑', '↑']\n",
      "Any['↑', '↑', '↑', '↑', '↑', '↑', '↑', '↑', '↑', '↑']\n",
      "Any['↑', '↑', '↑', '↑', '↑', '↑', '↑', '↑', '↑', '↑']\n"
     ]
    }
   ],
   "source": [
    "print_optimal_policy(zeros((WORLD_HEIGHT,WORLD_WIDTH,4)))"
   ]
  },
  {
   "cell_type": "markdown",
   "metadata": {},
   "source": [
    "tras correr nuestro algoritmo esta es nuestra nueva tabla qa diferencia de la de arriba que es la tabla q antes de haber aprendido"
   ]
  },
  {
   "cell_type": "code",
   "execution_count": 17,
   "metadata": {},
   "outputs": [
    {
     "name": "stdout",
     "output_type": "stream",
     "text": [
      "SARSA Optimal Policy:\n",
      "Any['↓', '→', '←', '→', '→', '→', '→', '↑', '→', '↓']\n",
      "Any['→', '→', '→', '→', '↑', '→', '→', '↑', '↓', '↓']\n",
      "Any['→', '→', '→', '→', '→', '→', '→', '↓', '↑', '↓']\n",
      "Any['→', '→', '→', '→', '→', '↓', '→', 'G', '→', '↓']\n",
      "Any['→', '→', '→', '→', '→', '→', '↑', '↓', '←', '←']\n",
      "Any['↓', '↑', '↓', '↑', '→', '↑', '↑', '↓', '←', '↓']\n",
      "Any['→', '→', '→', '→', '↑', '↑', '↑', '↑', '←', '←']\n",
      "\n"
     ]
    }
   ],
   "source": [
    "y = runagent(300);"
   ]
  },
  {
   "cell_type": "code",
   "execution_count": 18,
   "metadata": {},
   "outputs": [
    {
     "data": {
      "image/png": "[encoded data removed]",
      "text/plain": [
       "Figure(PyObject <Figure size 640x480 with 1 Axes>)"
      ]
     },
     "metadata": {},
     "output_type": "display_data"
    },
    {
     "data": {
      "text/plain": [
       "1-element Array{PyCall.PyObject,1}:\n",
       " PyObject <matplotlib.lines.Line2D object at 0x00000000257BC080>"
      ]
     },
     "execution_count": 18,
     "metadata": {},
     "output_type": "execute_result"
    }
   ],
   "source": [
    "plt[:title](\"scores\")\n",
    "plt[:xlabel](\"episodio\")\n",
    "plt[:ylabel](\"pasos\")\n",
    "plt[:plot]([i for i in 1:length(y)],y)"
   ]
  },
  {
   "cell_type": "markdown",
   "metadata": {},
   "source": [
    "como podemos observar, durante los primeros pasos nuestro agente tardo demasiado tiempo en llegar a su objetivo, pero rapidamente crea una politica buena, y el nuemro de pasos disminuye dramaticamente, esto quiere deicr que nuestro algoritmo esta verdaderamente aprendiendo o mejor dicho creando politicas suficientemente buenas para nuestro problema a solucionar"
   ]
  }
 ],
 "metadata": {
  "kernelspec": {
   "display_name": "Julia 1.0.2",
   "language": "julia",
   "name": "julia-1.0"
  },
  "language_info": {
   "file_extension": ".jl",
   "mimetype": "application/julia",
   "name": "julia",
   "version": "1.0.2"
  }
 },
 "nbformat": 4,
 "nbformat_minor": 2
}
