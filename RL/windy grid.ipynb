{
 "cells": [
  {
   "cell_type": "code",
   "execution_count": 95,
   "metadata": {},
   "outputs": [
    {
     "data": {
      "text/plain": [
       "4-element Array{Int64,1}:\n",
       " 1\n",
       " 2\n",
       " 3\n",
       " 4"
      ]
     },
     "execution_count": 95,
     "metadata": {},
     "output_type": "execute_result"
    }
   ],
   "source": [
    "WORLD_HEIGHT = 7\n",
    "WORLD_WIDTH = 10\n",
    "WIND = [0, 0, 0, 1, 1, 1, 2, 2, 1, 0]\n",
    "\n",
    "ACTION_UP = 1\n",
    "ACTION_DOWN = 2\n",
    "ACTION_LEFT = 3\n",
    "ACTION_RIGHT = 4\n",
    "\n",
    "EPSILON = 0.1\n",
    "ALPHA = .5\n",
    "REWARD = -1\n",
    "START = [4,1]\n",
    "GOAL = [4,8]\n",
    "ACTIONS = [ACTION_UP,ACTION_DOWN,ACTION_LEFT,ACTION_RIGHT]"
   ]
  },
  {
   "cell_type": "code",
   "execution_count": 96,
   "metadata": {},
   "outputs": [
    {
     "data": {
      "text/plain": [
       "step (generic function with 1 method)"
      ]
     },
     "execution_count": 96,
     "metadata": {},
     "output_type": "execute_result"
    }
   ],
   "source": [
    "function step(state, action)\n",
    "    i, j = state\n",
    "    if action == ACTION_UP\n",
    "        return [max(i - 1 - WIND[j], 1), j]\n",
    "        \n",
    "    elseif action == ACTION_DOWN\n",
    "         return [max(min(i + 1 - WIND[j], WORLD_HEIGHT), 1), j]\n",
    "        \n",
    "    elseif action == ACTION_LEFT\n",
    "        return [max(i - WIND[j], 1), max(j - 1, 1)]\n",
    "        \n",
    "    elseif action == ACTION_RIGHT\n",
    "        return [max(i - WIND[j], 1), min(j + 1, WORLD_WIDTH)]\n",
    "    end\n",
    "end"
   ]
  },
  {
   "cell_type": "code",
   "execution_count": 93,
   "metadata": {},
   "outputs": [
    {
     "data": {
      "text/plain": [
       "2-element Array{Int64,1}:\n",
       " 7\n",
       " 1"
      ]
     },
     "execution_count": 93,
     "metadata": {},
     "output_type": "execute_result"
    }
   ],
   "source": [
    "step([7,1],2)"
   ]
  },
  {
   "cell_type": "code",
   "execution_count": 97,
   "metadata": {},
   "outputs": [
    {
     "data": {
      "text/plain": [
       "episode (generic function with 1 method)"
      ]
     },
     "execution_count": 97,
     "metadata": {},
     "output_type": "execute_result"
    }
   ],
   "source": [
    "function episode(q_value)\n",
    "    # track the total time steps in this episode\n",
    "    time = 0\n",
    "    \n",
    "    # initialize state\n",
    "    state = START\n",
    "    # choose an action based on epsilon-greedy algorithm\n",
    "    if rand(1)[1] < EPSILON\n",
    "        action = ACTIONS[rand(1:4)]\n",
    "    else\n",
    "        values_ = q_value[state[1], state[2], :]\n",
    "        action = []\n",
    "        for i in enumerate(values_)\n",
    "            action_,value_ = i\n",
    "            if value_ == maximum(values_)\n",
    "                push!(action,action_)\n",
    "            end\n",
    "        end\n",
    "        action = action[rand(1:length(action))]\n",
    "    end\n",
    "    \n",
    "    # keep going until get to the goal state\n",
    "    while state != GOAL\n",
    "\n",
    "        next_state = step(state,action)\n",
    "        if rand(1)[1] < EPSILON\n",
    "            next_action = ACTIONS[rand(1:4)]\n",
    "        else\n",
    "            values_ = q_value[next_state[1], next_state[2], :]\n",
    "            next_action = []\n",
    "            for i in enumerate(values_)\n",
    "                action_,value_ = i\n",
    "                if value_ == maximum(values_)\n",
    "                    push!(next_action,action_)\n",
    "                end\n",
    "            end\n",
    "            next_action = next_action[rand(1:length(next_action))]\n",
    "        end\n",
    "        # Sarsa update\n",
    "        q_value[state[1], state[2], action] += ALPHA * (REWARD + q_value[next_state[1], next_state[2], next_action] - q_value[state[1], state[2], action])\n",
    "        state = next_state\n",
    "        action = next_action\n",
    "        time += 1\n",
    "    end\n",
    "\n",
    "    return time\n",
    "end"
   ]
  },
  {
   "cell_type": "code",
   "execution_count": 100,
   "metadata": {},
   "outputs": [
    {
     "data": {
      "text/plain": [
       "figure_6_3 (generic function with 1 method)"
      ]
     },
     "execution_count": 100,
     "metadata": {},
     "output_type": "execute_result"
    }
   ],
   "source": [
    "function figure_6_3()\n",
    "    q_value = zeros((WORLD_HEIGHT,WORLD_WIDTH,4))\n",
    "    episode_limit = 300\n",
    "    q_value\n",
    "    steps = []\n",
    "    ep = 0\n",
    "    while ep < episode_limit\n",
    "        push!(steps,episode(q_value))\n",
    "        ep+=1\n",
    "    end\n",
    "    print(steps)\n",
    "end\n"
   ]
  },
  {
   "cell_type": "code",
   "execution_count": 101,
   "metadata": {},
   "outputs": [
    {
     "name": "stdout",
     "output_type": "stream",
     "text": [
      "Any[1074, 165, 111, 81, 321, 90, 58, 63, 112, 88, 30, 81, 58, 38, 68, 219, 134, 84, 32, 43, 25, 121, 81, 33, 26, 52, 92, 163, 47, 37, 28, 87, 33, 31, 156, 64, 68, 48, 27, 38, 93, 49, 155, 19, 48, 42, 50, 30, 38, 32, 45, 23, 33, 113, 51, 30, 22, 41, 36, 69, 35, 32, 57, 45, 24, 34, 43, 27, 47, 34, 34, 34, 83, 29, 24, 32, 30, 25, 32, 27, 31, 22, 27, 51, 26, 28, 23, 38, 37, 25, 32, 49, 32, 24, 23, 50, 25, 28, 21, 55, 32, 31, 68, 36, 27, 25, 16, 21, 26, 21, 25, 21, 20, 20, 23, 28, 17, 27, 29, 17, 29, 24, 21, 20, 21, 39, 19, 17, 31, 23, 17, 25, 16, 23, 26, 48, 25, 16, 25, 33, 19, 22, 17, 22, 16, 20, 16, 22, 31, 18, 17, 22, 21, 26, 15, 23, 22, 15, 20, 15, 22, 16, 15, 16, 17, 15, 20, 15, 15, 15, 17, 18, 16, 20, 15, 15, 15, 15, 16, 23, 17, 15, 15, 15, 17, 17, 15, 16, 16, 15, 15, 15, 17, 15, 30, 17, 15, 15, 17, 15, 17, 16, 16, 17, 20, 15, 20, 15, 17, 16, 15, 22, 29, 16, 20, 16, 17, 16, 17, 21, 26, 18, 23, 18, 23, 16, 57, 34, 25, 28, 24, 20, 18, 36, 28, 36, 28, 23, 19, 25, 27, 24, 38, 20, 23, 38, 19, 20, 16, 25, 18, 28, 19, 24, 16, 18, 16, 17, 16, 16, 17, 17, 37, 17, 20, 15, 21, 21, 27, 29, 15, 38, 17, 21, 18, 19, 18, 20, 23, 21, 21, 24, 20, 16, 19, 18, 18, 17, 16, 19, 19, 24, 22, 20, 21, 20, 17, 18, 21, 19]"
     ]
    }
   ],
   "source": [
    "a = figure_6_3()"
   ]
  },
  {
   "cell_type": "markdown",
   "metadata": {},
   "source": [
    "```python\n",
    "import numpy as np\n",
    "import matplotlib\n",
    "matplotlib.use('Agg')\n",
    "import matplotlib.pyplot as plt\n",
    "\n",
    "# world height\n",
    "WORLD_HEIGHT = 7\n",
    "\n",
    "# world width\n",
    "WORLD_WIDTH = 10\n",
    "\n",
    "# wind strength for each column\n",
    "WIND = [0, 0, 0, 1, 1, 1, 2, 2, 1, 0]\n",
    "\n",
    "# possible actions\n",
    "ACTION_UP = 0\n",
    "ACTION_DOWN = 1\n",
    "ACTION_LEFT = 2\n",
    "ACTION_RIGHT = 3\n",
    "\n",
    "# probability for exploration\n",
    "EPSILON = 0.1\n",
    "\n",
    "# Sarsa step size\n",
    "ALPHA = 0.5\n",
    "\n",
    "# reward for each step\n",
    "REWARD = -1.0\n",
    "\n",
    "START = [3, 0]\n",
    "GOAL = [3, 7]\n",
    "ACTIONS = [ACTION_UP, ACTION_DOWN, ACTION_LEFT, ACTION_RIGHT]\n",
    "\n",
    "def step(state, action):\n",
    "    i, j = state\n",
    "    if action == ACTION_UP:\n",
    "        return [max(i - 1 - WIND[j], 0), j]\n",
    "    elif action == ACTION_DOWN:\n",
    "        return [max(min(i + 1 - WIND[j], WORLD_HEIGHT - 1), 0), j]\n",
    "    elif action == ACTION_LEFT:\n",
    "        return [max(i - WIND[j], 0), max(j - 1, 0)]\n",
    "    elif action == ACTION_RIGHT:\n",
    "        return [max(i - WIND[j], 0), min(j + 1, WORLD_WIDTH - 1)]\n",
    "    else:\n",
    "        assert False\n",
    "\n",
    "# play for an episode\n",
    "def episode(q_value):\n",
    "    # track the total time steps in this episode\n",
    "    time = 0\n",
    "\n",
    "    # initialize state\n",
    "    state = START\n",
    "\n",
    "    # choose an action based on epsilon-greedy algorithm\n",
    "    if np.random.binomial(1, EPSILON) == 1:\n",
    "        action = np.random.choice(ACTIONS)\n",
    "    else:\n",
    "        values_ = q_value[state[0], state[1], :]\n",
    "        action = np.random.choice([action_ for action_, value_ in enumerate(values_) if value_ == np.max(values_)])\n",
    "\n",
    "    # keep going until get to the goal state\n",
    "    while state != GOAL:\n",
    "        next_state = step(state, action)\n",
    "        if np.random.binomial(1, EPSILON) == 1:\n",
    "            next_action = np.random.choice(ACTIONS)\n",
    "        else:\n",
    "            values_ = q_value[next_state[0], next_state[1], :]\n",
    "            next_action = np.random.choice([action_ for action_, value_ in enumerate(values_) if value_ == np.max(values_)])\n",
    "\n",
    "        # Sarsa update\n",
    "        q_value[state[0], state[1], action] += \\\n",
    "            ALPHA * (REWARD + q_value[next_state[0], next_state[1], next_action] -\n",
    "                     q_value[state[0], state[1], action])\n",
    "        state = next_state\n",
    "        action = next_action\n",
    "        time += 1\n",
    "    return time\n",
    "\n",
    "def figure_6_3():\n",
    "    q_value = np.zeros((WORLD_HEIGHT, WORLD_WIDTH, 4))\n",
    "    episode_limit = 500\n",
    "\n",
    "    steps = []\n",
    "    ep = 0\n",
    "    while ep < episode_limit:\n",
    "        steps.append(episode(q_value))\n",
    "        # time = episode(q_value)\n",
    "        # episodes.extend([ep] * time)\n",
    "        ep += 1\n",
    "\n",
    "    steps = np.add.accumulate(steps)\n",
    "\n",
    "    plt.plot(steps, np.arange(1, len(steps) + 1))\n",
    "    plt.xlabel('Time steps')\n",
    "    plt.ylabel('Episodes')\n",
    "\n",
    "    plt.savefig('../images/figure_6_3.png')\n",
    "    plt.close()\n",
    "\n",
    "    # display the optimal policy\n",
    "    optimal_policy = []\n",
    "    for i in range(0, WORLD_HEIGHT):\n",
    "        optimal_policy.append([])\n",
    "        for j in range(0, WORLD_WIDTH):\n",
    "            if [i, j] == GOAL:\n",
    "                optimal_policy[-1].append('G')\n",
    "                continue\n",
    "            bestAction = np.argmax(q_value[i, j, :])\n",
    "            if bestAction == ACTION_UP:\n",
    "                optimal_policy[-1].append('U')\n",
    "            elif bestAction == ACTION_DOWN:\n",
    "                optimal_policy[-1].append('D')\n",
    "            elif bestAction == ACTION_LEFT:\n",
    "                optimal_policy[-1].append('L')\n",
    "            elif bestAction == ACTION_RIGHT:\n",
    "                optimal_policy[-1].append('R')\n",
    "    print('Optimal policy is:')\n",
    "    for row in optimal_policy:\n",
    "        print(row)\n",
    "    print('Wind strength for each column:\\n{}'.format([str(w) for w in WIND]))\n",
    "\n",
    "if __name__ == '__main__':\n",
    "    figure_6_3()\n",
    "```"
   ]
  }
 ],
 "metadata": {
  "kernelspec": {
   "display_name": "Julia 1.0.0",
   "language": "julia",
   "name": "julia-1.0"
  },
  "language_info": {
   "file_extension": ".jl",
   "mimetype": "application/julia",
   "name": "julia",
   "version": "1.0.0"
  }
 },
 "nbformat": 4,
 "nbformat_minor": 2
}
