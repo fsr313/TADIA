{
 "cells": [
  {
   "cell_type": "markdown",
   "metadata": {},
   "source": [
    "# Stochastic windy Grid\n",
    "---\n",
    "Stochastic Windy Grid es una nueva implementacion del pasado trabajo Windy grid con una pequena diferencia, ahora la probabilidad de que el viento te mueva no es de 1, si no que es estocastica, osease con una probabilidad p el viento movera al agente el numero de casillas igual a su fuerza"
   ]
  },
  {
   "cell_type": "code",
   "execution_count": 1,
   "metadata": {},
   "outputs": [],
   "source": [
    "using PyPlot\n",
    "ioff()"
   ]
  },
  {
   "cell_type": "markdown",
   "metadata": {},
   "source": [
    "En si, las definiciones previas del problema son practicamente las mismas, con la diferencia de que ahora agregamos probabilidad de que el viento te mueva\n"
   ]
  },
  {
   "cell_type": "code",
   "execution_count": 2,
   "metadata": {},
   "outputs": [],
   "source": [
    "WORLD_HEIGHT = 7\n",
    "WORLD_WIDTH = 10\n",
    "WIND = [0, 0, 0, 1, 1, 1, 2, 2, 1, 0]\n",
    "WIND_PROBABILITY = .9\n",
    "\n",
    "ACTION_UP = 1\n",
    "ACTION_DOWN = 2\n",
    "ACTION_LEFT = 3\n",
    "ACTION_RIGHT = 4\n",
    "\n",
    "EPSILON = 0.1\n",
    "ALPHA = .5\n",
    "REWARD = -1\n",
    "START = [4,1]\n",
    "GOAL = [4,8]\n",
    "ACTIONS = [ACTION_UP,ACTION_DOWN,ACTION_LEFT,ACTION_RIGHT];"
   ]
  },
  {
   "cell_type": "markdown",
   "metadata": {},
   "source": [
    " # Paso\n",
    " ---\n",
    " Aqui es donde se encuentra el unico cambio que existe en el paso se agrega una condicional que utiliza numeros aleatorios, si se cumple la condicional entonces el paso que va a dar nuestro agente se le sumara el viento de la casilla donde esta parado"
   ]
  },
  {
   "cell_type": "code",
   "execution_count": 3,
   "metadata": {},
   "outputs": [
    {
     "data": {
      "text/plain": [
       "step (generic function with 1 method)"
      ]
     },
     "execution_count": 3,
     "metadata": {},
     "output_type": "execute_result"
    }
   ],
   "source": [
    "function step(state, action)\n",
    "    i, j = state\n",
    "    \n",
    "    if rand() < WIND_PROBABILITY\n",
    "        wind = WIND[j]\n",
    "    else\n",
    "        wind = 0\n",
    "    end\n",
    "    if action == ACTION_UP\n",
    "        return [max(i - 1 - wind, 1), j]\n",
    "        \n",
    "    elseif action == ACTION_DOWN\n",
    "         return [max(min(i + 1 - wind, WORLD_HEIGHT), 1), j]\n",
    "        \n",
    "    elseif action == ACTION_LEFT\n",
    "        return [max(i - wind, 1), max(j - 1, 1)]\n",
    "        \n",
    "    elseif action == ACTION_RIGHT\n",
    "        return [max(i - wind, 1), min(j + 1, WORLD_WIDTH)]\n",
    "    end\n",
    "end"
   ]
  },
  {
   "cell_type": "markdown",
   "metadata": {},
   "source": [
    "### Un episodio\n",
    "---\n",
    "En si un episodio es el repetir pasos hasta que se llegue a un objetivo o hasta que llegue a un limite que se haya impuesto.\n",
    "\n",
    "---\n",
    "### exploracion y explotacion\n",
    "---\n",
    "exploracion en este contexto le llamamos a que vamos a elegir algo que no sea lo mejor que conocemos al momento, con una probabilidad de epsilon, haremos esto que llamamos exploracion, donde simplemente elegiremos al azar una de las acciones, con el objetivo de precisamente explorar mas acciones. LINEA 8 y LINEA 26\n",
    "\n",
    "Explotacion en este contexto le llamamos a elegir el mejor candidato que conocemos, en este problema es simplemente elegir en la tabla q cual es la mejor accion que posible. LINEA 10 y LINEA 28\n",
    "\n",
    "---\n",
    "# Sarsa\n",
    "---\n",
    "Sarsa es un algoritmo de aprendizaje para politicas de procesos de decision markoviana. Se basa en una tabla de \"valores Q\", el algoritmo es bastante sencillo y facil de comprender, dados un estado, una accion, una recompensa, el siguiente estado y la siguiente accion, se puede actualzar la tabla Q en el estado y en la accion. dado (s, a, r, s+1, a+1) \n",
    "Q(s,a) = Q(s,a) + α( r + γ * Q(s+1,a+1) - Q(s,a)) LINEA 40\n",
    "\n",
    "Se aplica sarsa iterativamente hasta llegar al final del episodio o a un limite predefinido, donde siempre se va a calcular la nueva accion o se elegira una al azar dependiendo de si se realiza exploracion o explotacion"
   ]
  },
  {
   "cell_type": "code",
   "execution_count": 4,
   "metadata": {},
   "outputs": [
    {
     "data": {
      "text/plain": [
       "episode (generic function with 1 method)"
      ]
     },
     "execution_count": 4,
     "metadata": {},
     "output_type": "execute_result"
    }
   ],
   "source": [
    "function episode(q_value)\n",
    "    # track the total time steps in this episode\n",
    "    time = 0\n",
    "    \n",
    "    # initialize state\n",
    "    state = START\n",
    "    # choose an action based on epsilon-greedy algorithm\n",
    "    if rand(1)[1] < EPSILON\n",
    "        action = ACTIONS[rand(1:4)]\n",
    "    else\n",
    "        values_ = q_value[state[1], state[2], :]\n",
    "        action = []\n",
    "        for i in enumerate(values_)\n",
    "            action_,value_ = i\n",
    "            if value_ == maximum(values_)\n",
    "                push!(action,action_)\n",
    "            end\n",
    "        end\n",
    "        action = action[rand(1:length(action))]\n",
    "    end\n",
    "    \n",
    "    # keep going until get to the goal state\n",
    "    while state != GOAL\n",
    "\n",
    "        next_state = step(state,action)\n",
    "        if rand(1)[1] < EPSILON\n",
    "            next_action = ACTIONS[rand(1:4)]\n",
    "        else\n",
    "            values_ = q_value[next_state[1], next_state[2], :]\n",
    "            next_action = []\n",
    "            for i in enumerate(values_)\n",
    "                action_,value_ = i\n",
    "                if value_ == maximum(values_)\n",
    "                    push!(next_action,action_)\n",
    "                end\n",
    "            end\n",
    "            next_action = next_action[rand(1:length(next_action))]\n",
    "        end\n",
    "        # Sarsa update\n",
    "        q_value[state[1], state[2], action] += ALPHA * (REWARD + q_value[next_state[1], next_state[2], next_action] - q_value[state[1], state[2], action])\n",
    "        state = next_state\n",
    "        action = next_action\n",
    "        time += 1\n",
    "    end\n",
    "\n",
    "    return time\n",
    "end"
   ]
  },
  {
   "cell_type": "code",
   "execution_count": 9,
   "metadata": {},
   "outputs": [
    {
     "data": {
      "text/plain": [
       "print_optimal_policy (generic function with 1 method)"
      ]
     },
     "execution_count": 9,
     "metadata": {},
     "output_type": "execute_result"
    }
   ],
   "source": [
    "function print_optimal_policy(q_value)\n",
    "    optimal_policy = []\n",
    "    for i in range(1, stop=WORLD_HEIGHT)\n",
    "        push!(optimal_policy,[])\n",
    "        for j in range(1, stop=WORLD_WIDTH)\n",
    "            if [i, j] == GOAL\n",
    "                append!(optimal_policy[end], 'G')\n",
    "                continue\n",
    "            end\n",
    "            bestAction = argmax(q_value[i, j, :])\n",
    "            if bestAction == ACTION_UP\n",
    "                append!(optimal_policy[end], '↑')\n",
    "            elseif bestAction == ACTION_DOWN\n",
    "                append!(optimal_policy[end], '↓')\n",
    "            elseif bestAction == ACTION_LEFT\n",
    "                append!(optimal_policy[end], '←')\n",
    "            elseif bestAction == ACTION_RIGHT\n",
    "                append!(optimal_policy[end], '→')\n",
    "            end\n",
    "        end\n",
    "    end\n",
    "    for row in optimal_policy\n",
    "        println(row)\n",
    "    end\n",
    "end"
   ]
  },
  {
   "cell_type": "markdown",
   "metadata": {},
   "source": [
    "# iterar episodios\n",
    "---\n",
    "En este ultimo cuadro antes de los resultados se ve como se corre el algoritmo para un numero de n episodios"
   ]
  },
  {
   "cell_type": "code",
   "execution_count": 6,
   "metadata": {},
   "outputs": [
    {
     "data": {
      "text/plain": [
       "runagent (generic function with 1 method)"
      ]
     },
     "execution_count": 6,
     "metadata": {},
     "output_type": "execute_result"
    }
   ],
   "source": [
    "function runagent(episode_limit)\n",
    "    q_value = zeros((WORLD_HEIGHT,WORLD_WIDTH,4))\n",
    "    steps = []\n",
    "    ep = 0\n",
    "    while ep < episode_limit\n",
    "        push!(steps,episode(q_value))\n",
    "        ep+=1\n",
    "    end\n",
    "    println(\"SARSA Optimal Policy:\")\n",
    "    print_optimal_policy(q_value)\n",
    "    println(\"\")\n",
    "    return steps\n",
    "end\n"
   ]
  },
  {
   "cell_type": "code",
   "execution_count": 11,
   "metadata": {},
   "outputs": [
    {
     "name": "stdout",
     "output_type": "stream",
     "text": [
      "Any['↑', '↑', '↑', '↑', '↑', '↑', '↑', '↑', '↑', '↑']\n",
      "Any['↑', '↑', '↑', '↑', '↑', '↑', '↑', '↑', '↑', '↑']\n",
      "Any['↑', '↑', '↑', '↑', '↑', '↑', '↑', '↑', '↑', '↑']\n",
      "Any['↑', '↑', '↑', '↑', '↑', '↑', '↑', 'G', '↑', '↑']\n",
      "Any['↑', '↑', '↑', '↑', '↑', '↑', '↑', '↑', '↑', '↑']\n",
      "Any['↑', '↑', '↑', '↑', '↑', '↑', '↑', '↑', '↑', '↑']\n",
      "Any['↑', '↑', '↑', '↑', '↑', '↑', '↑', '↑', '↑', '↑']\n"
     ]
    }
   ],
   "source": [
    "print_optimal_policy(zeros((WORLD_HEIGHT,WORLD_WIDTH,4)))"
   ]
  },
  {
   "cell_type": "markdown",
   "metadata": {},
   "source": [
    "Como podemos ver nuestra nueva tabla q es bastante parecida a la primera tabla q sin ser estocastico, esto se debe a que estamos muy cerca a 1, pero igual es una tabla bastante acertada\n"
   ]
  },
  {
   "cell_type": "code",
   "execution_count": 10,
   "metadata": {},
   "outputs": [
    {
     "name": "stdout",
     "output_type": "stream",
     "text": [
      "SARSA Optimal Policy:\n",
      "Any['→', '→', '→', '→', '→', '→', '→', '→', '→', '↓']\n",
      "Any['←', '←', '→', '→', '↑', '→', '→', '→', '→', '↓']\n",
      "Any['→', '→', '→', '→', '→', '→', '↓', '→', '→', '↓']\n",
      "Any['→', '→', '→', '→', '→', '→', '↑', 'G', '→', '↓']\n",
      "Any['→', '→', '↓', '→', '→', '→', '→', '↓', '←', '←']\n",
      "Any['→', '↓', '→', '→', '→', '→', '↑', '↓', '←', '→']\n",
      "Any['←', '←', '→', '→', '←', '↑', '↑', '↑', '↑', '←']\n",
      "\n"
     ]
    }
   ],
   "source": [
    "y = runagent(300);"
   ]
  },
  {
   "cell_type": "code",
   "execution_count": 8,
   "metadata": {},
   "outputs": [
    {
     "data": {
      "image/png": "[encoded data removed]",
      "text/plain": [
       "Figure(PyObject <Figure size 640x480 with 1 Axes>)"
      ]
     },
     "metadata": {},
     "output_type": "display_data"
    },
    {
     "data": {
      "text/plain": [
       "1-element Array{PyCall.PyObject,1}:\n",
       " PyObject <matplotlib.lines.Line2D object at 0x00000000253CCE48>"
      ]
     },
     "execution_count": 8,
     "metadata": {},
     "output_type": "execute_result"
    }
   ],
   "source": [
    "plt[:title](\"scores\")\n",
    "plt[:xlabel](\"episodio\")\n",
    "plt[:ylabel](\"pasos\")\n",
    "plt[:plot]([i for i in 1:length(y)],y)"
   ]
  },
  {
   "cell_type": "markdown",
   "metadata": {},
   "source": [
    "Viendo la grafica podemos ver que tardo un poco mas que los otros dos ejemplos de windy grid, esto es debido a que hora el agente tiene que luchar contra la suerte, haciendo que los primero episodios de aprendizaje aprenda poco o aprende en base a jugadas con mucha o poca suerte de ser movido con el aire"
   ]
  }
 ],
 "metadata": {
  "kernelspec": {
   "display_name": "Julia 1.0.2",
   "language": "julia",
   "name": "julia-1.0"
  },
  "language_info": {
   "file_extension": ".jl",
   "mimetype": "application/julia",
   "name": "julia",
   "version": "1.0.2"
  }
 },
 "nbformat": 4,
 "nbformat_minor": 2
}
