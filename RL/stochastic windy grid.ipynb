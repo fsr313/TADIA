{
 "cells": [
  {
   "cell_type": "code",
   "execution_count": 1,
   "metadata": {},
   "outputs": [
    {
     "data": {
      "text/plain": [
       "4-element Array{Int64,1}:\n",
       " 1\n",
       " 2\n",
       " 3\n",
       " 4"
      ]
     },
     "execution_count": 1,
     "metadata": {},
     "output_type": "execute_result"
    }
   ],
   "source": [
    "WORLD_HEIGHT = 7\n",
    "WORLD_WIDTH = 10\n",
    "WIND = [0, 0, 0, 1, 1, 1, 2, 2, 1, 0]\n",
    "WIND_PROBABILITY = .9\n",
    "\n",
    "ACTION_UP = 1\n",
    "ACTION_DOWN = 2\n",
    "ACTION_LEFT = 3\n",
    "ACTION_RIGHT = 4\n",
    "\n",
    "EPSILON = 0.1\n",
    "ALPHA = .5\n",
    "REWARD = -1\n",
    "START = [4,1]\n",
    "GOAL = [4,8]\n",
    "ACTIONS = [ACTION_UP,ACTION_DOWN,ACTION_LEFT,ACTION_RIGHT]"
   ]
  },
  {
   "cell_type": "code",
   "execution_count": 2,
   "metadata": {},
   "outputs": [
    {
     "data": {
      "text/plain": [
       "step (generic function with 1 method)"
      ]
     },
     "execution_count": 2,
     "metadata": {},
     "output_type": "execute_result"
    }
   ],
   "source": [
    "function step(state, action)\n",
    "    i, j = state\n",
    "    \n",
    "    if rand() < WIND_PROBABILITY\n",
    "        wind = WIND[j]\n",
    "    else\n",
    "        wind = 0\n",
    "    end\n",
    "    if action == ACTION_UP\n",
    "        return [max(i - 1 - wind, 1), j]\n",
    "        \n",
    "    elseif action == ACTION_DOWN\n",
    "         return [max(min(i + 1 - wind, WORLD_HEIGHT), 1), j]\n",
    "        \n",
    "    elseif action == ACTION_LEFT\n",
    "        return [max(i - wind, 1), max(j - 1, 1)]\n",
    "        \n",
    "    elseif action == ACTION_RIGHT\n",
    "        return [max(i - wind, 1), min(j + 1, WORLD_WIDTH)]\n",
    "    end\n",
    "end"
   ]
  },
  {
   "cell_type": "code",
   "execution_count": 93,
   "metadata": {},
   "outputs": [
    {
     "data": {
      "text/plain": [
       "2-element Array{Int64,1}:\n",
       " 7\n",
       " 1"
      ]
     },
     "execution_count": 93,
     "metadata": {},
     "output_type": "execute_result"
    }
   ],
   "source": [
    "step([7,1],2)"
   ]
  },
  {
   "cell_type": "code",
   "execution_count": 3,
   "metadata": {},
   "outputs": [
    {
     "data": {
      "text/plain": [
       "episode (generic function with 1 method)"
      ]
     },
     "execution_count": 3,
     "metadata": {},
     "output_type": "execute_result"
    }
   ],
   "source": [
    "function episode(q_value)\n",
    "    # track the total time steps in this episode\n",
    "    time = 0\n",
    "    \n",
    "    # initialize state\n",
    "    state = START\n",
    "    # choose an action based on epsilon-greedy algorithm\n",
    "    if rand(1)[1] < EPSILON\n",
    "        action = ACTIONS[rand(1:4)]\n",
    "    else\n",
    "        values_ = q_value[state[1], state[2], :]\n",
    "        action = []\n",
    "        for i in enumerate(values_)\n",
    "            action_,value_ = i\n",
    "            if value_ == maximum(values_)\n",
    "                push!(action,action_)\n",
    "            end\n",
    "        end\n",
    "        action = action[rand(1:length(action))]\n",
    "    end\n",
    "    \n",
    "    # keep going until get to the goal state\n",
    "    while state != GOAL\n",
    "\n",
    "        next_state = step(state,action)\n",
    "        if rand(1)[1] < EPSILON\n",
    "            next_action = ACTIONS[rand(1:4)]\n",
    "        else\n",
    "            values_ = q_value[next_state[1], next_state[2], :]\n",
    "            next_action = []\n",
    "            for i in enumerate(values_)\n",
    "                action_,value_ = i\n",
    "                if value_ == maximum(values_)\n",
    "                    push!(next_action,action_)\n",
    "                end\n",
    "            end\n",
    "            next_action = next_action[rand(1:length(next_action))]\n",
    "        end\n",
    "        # Sarsa update\n",
    "        q_value[state[1], state[2], action] += ALPHA * (REWARD + q_value[next_state[1], next_state[2], next_action] - q_value[state[1], state[2], action])\n",
    "        state = next_state\n",
    "        action = next_action\n",
    "        time += 1\n",
    "    end\n",
    "\n",
    "    return time\n",
    "end"
   ]
  },
  {
   "cell_type": "code",
   "execution_count": 4,
   "metadata": {},
   "outputs": [
    {
     "data": {
      "text/plain": [
       "figure_6_3 (generic function with 1 method)"
      ]
     },
     "execution_count": 4,
     "metadata": {},
     "output_type": "execute_result"
    }
   ],
   "source": [
    "function figure_6_3()\n",
    "    q_value = zeros((WORLD_HEIGHT,WORLD_WIDTH,4))\n",
    "    episode_limit = 300\n",
    "    q_value\n",
    "    steps = []\n",
    "    ep = 0\n",
    "    while ep < episode_limit\n",
    "        push!(steps,episode(q_value))\n",
    "        ep+=1\n",
    "    end\n",
    "    print(steps)\n",
    "end\n"
   ]
  },
  {
   "cell_type": "code",
   "execution_count": 5,
   "metadata": {},
   "outputs": [
    {
     "name": "stdout",
     "output_type": "stream",
     "text": [
      "Any[833, 257, 164, 299, 155, 198, 46, 49, 178, 154, 153, 39, 22, 113, 32, 44, 50, 43, 123, 35, 53, 57, 89, 34, 83, 25, 74, 160, 25, 39, 55, 43, 99, 35, 143, 149, 64, 115, 42, 96, 17, 55, 74, 49, 33, 24, 91, 29, 41, 25, 19, 54, 61, 47, 20, 20, 26, 67, 57, 28, 31, 40, 26, 20, 40, 24, 22, 47, 27, 47, 23, 20, 20, 38, 46, 51, 20, 31, 97, 40, 29, 30, 35, 43, 29, 30, 20, 19, 24, 32, 47, 41, 23, 31, 40, 39, 58, 52, 45, 50, 27, 21, 27, 21, 23, 32, 33, 21, 26, 30, 32, 23, 24, 26, 29, 22, 18, 31, 21, 31, 30, 51, 26, 33, 22, 21, 19, 21, 26, 34, 20, 19, 20, 18, 21, 21, 21, 19, 31, 33, 37, 24, 23, 24, 24, 15, 18, 30, 28, 17, 28, 20, 36, 19, 27, 19, 24, 54, 41, 26, 27, 16, 66, 44, 20, 18, 22, 24, 19, 23, 21, 27, 26, 27, 30, 24, 21, 31, 17, 38, 23, 25, 16, 34, 25, 26, 19, 21, 29, 12, 23, 25, 21, 19, 21, 19, 19, 15, 24, 18, 19, 33, 29, 30, 24, 23, 23, 21, 19, 21, 30, 19, 20, 21, 40, 21, 25, 45, 31, 29, 18, 35, 21, 24, 19, 22, 19, 19, 26, 15, 16, 16, 18, 15, 15, 22, 19, 26, 46, 20, 23, 18, 25, 28, 22, 27, 32, 21, 21, 23, 17, 20, 19, 20, 16, 15, 24, 11, 41, 26, 28, 24, 23, 25, 35, 23, 29, 18, 24, 19, 19, 30, 15, 15, 15, 32, 16, 29, 16, 19, 16, 17, 21, 24, 21, 15, 17, 19, 33, 17, 22, 16, 18, 17, 16, 17, 16, 18, 17, 20]"
     ]
    }
   ],
   "source": [
    "a = figure_6_3()"
   ]
  },
  {
   "cell_type": "markdown",
   "metadata": {},
   "source": [
    "```python\n",
    "import numpy as np\n",
    "import matplotlib\n",
    "matplotlib.use('Agg')\n",
    "import matplotlib.pyplot as plt\n",
    "\n",
    "# world height\n",
    "WORLD_HEIGHT = 7\n",
    "\n",
    "# world width\n",
    "WORLD_WIDTH = 10\n",
    "\n",
    "# wind strength for each column\n",
    "WIND = [0, 0, 0, 1, 1, 1, 2, 2, 1, 0]\n",
    "\n",
    "# possible actions\n",
    "ACTION_UP = 0\n",
    "ACTION_DOWN = 1\n",
    "ACTION_LEFT = 2\n",
    "ACTION_RIGHT = 3\n",
    "\n",
    "# probability for exploration\n",
    "EPSILON = 0.1\n",
    "\n",
    "# Sarsa step size\n",
    "ALPHA = 0.5\n",
    "\n",
    "# reward for each step\n",
    "REWARD = -1.0\n",
    "\n",
    "START = [3, 0]\n",
    "GOAL = [3, 7]\n",
    "ACTIONS = [ACTION_UP, ACTION_DOWN, ACTION_LEFT, ACTION_RIGHT]\n",
    "\n",
    "def step(state, action):\n",
    "    i, j = state\n",
    "    if action == ACTION_UP:\n",
    "        return [max(i - 1 - WIND[j], 0), j]\n",
    "    elif action == ACTION_DOWN:\n",
    "        return [max(min(i + 1 - WIND[j], WORLD_HEIGHT - 1), 0), j]\n",
    "    elif action == ACTION_LEFT:\n",
    "        return [max(i - WIND[j], 0), max(j - 1, 0)]\n",
    "    elif action == ACTION_RIGHT:\n",
    "        return [max(i - WIND[j], 0), min(j + 1, WORLD_WIDTH - 1)]\n",
    "    else:\n",
    "        assert False\n",
    "\n",
    "# play for an episode\n",
    "def episode(q_value):\n",
    "    # track the total time steps in this episode\n",
    "    time = 0\n",
    "\n",
    "    # initialize state\n",
    "    state = START\n",
    "\n",
    "    # choose an action based on epsilon-greedy algorithm\n",
    "    if np.random.binomial(1, EPSILON) == 1:\n",
    "        action = np.random.choice(ACTIONS)\n",
    "    else:\n",
    "        values_ = q_value[state[0], state[1], :]\n",
    "        action = np.random.choice([action_ for action_, value_ in enumerate(values_) if value_ == np.max(values_)])\n",
    "\n",
    "    # keep going until get to the goal state\n",
    "    while state != GOAL:\n",
    "        next_state = step(state, action)\n",
    "        if np.random.binomial(1, EPSILON) == 1:\n",
    "            next_action = np.random.choice(ACTIONS)\n",
    "        else:\n",
    "            values_ = q_value[next_state[0], next_state[1], :]\n",
    "            next_action = np.random.choice([action_ for action_, value_ in enumerate(values_) if value_ == np.max(values_)])\n",
    "\n",
    "        # Sarsa update\n",
    "        q_value[state[0], state[1], action] += \\\n",
    "            ALPHA * (REWARD + q_value[next_state[0], next_state[1], next_action] -\n",
    "                     q_value[state[0], state[1], action])\n",
    "        state = next_state\n",
    "        action = next_action\n",
    "        time += 1\n",
    "    return time\n",
    "\n",
    "def figure_6_3():\n",
    "    q_value = np.zeros((WORLD_HEIGHT, WORLD_WIDTH, 4))\n",
    "    episode_limit = 500\n",
    "\n",
    "    steps = []\n",
    "    ep = 0\n",
    "    while ep < episode_limit:\n",
    "        steps.append(episode(q_value))\n",
    "        # time = episode(q_value)\n",
    "        # episodes.extend([ep] * time)\n",
    "        ep += 1\n",
    "\n",
    "    steps = np.add.accumulate(steps)\n",
    "\n",
    "    plt.plot(steps, np.arange(1, len(steps) + 1))\n",
    "    plt.xlabel('Time steps')\n",
    "    plt.ylabel('Episodes')\n",
    "\n",
    "    plt.savefig('../images/figure_6_3.png')\n",
    "    plt.close()\n",
    "\n",
    "    # display the optimal policy\n",
    "    optimal_policy = []\n",
    "    for i in range(0, WORLD_HEIGHT):\n",
    "        optimal_policy.append([])\n",
    "        for j in range(0, WORLD_WIDTH):\n",
    "            if [i, j] == GOAL:\n",
    "                optimal_policy[-1].append('G')\n",
    "                continue\n",
    "            bestAction = np.argmax(q_value[i, j, :])\n",
    "            if bestAction == ACTION_UP:\n",
    "                optimal_policy[-1].append('U')\n",
    "            elif bestAction == ACTION_DOWN:\n",
    "                optimal_policy[-1].append('D')\n",
    "            elif bestAction == ACTION_LEFT:\n",
    "                optimal_policy[-1].append('L')\n",
    "            elif bestAction == ACTION_RIGHT:\n",
    "                optimal_policy[-1].append('R')\n",
    "    print('Optimal policy is:')\n",
    "    for row in optimal_policy:\n",
    "        print(row)\n",
    "    print('Wind strength for each column:\\n{}'.format([str(w) for w in WIND]))\n",
    "\n",
    "if __name__ == '__main__':\n",
    "    figure_6_3()\n",
    "```"
   ]
  }
 ],
 "metadata": {
  "kernelspec": {
   "display_name": "Julia 1.0.0",
   "language": "julia",
   "name": "julia-1.0"
  },
  "language_info": {
   "file_extension": ".jl",
   "mimetype": "application/julia",
   "name": "julia",
   "version": "1.0.0"
  }
 },
 "nbformat": 4,
 "nbformat_minor": 2
}
