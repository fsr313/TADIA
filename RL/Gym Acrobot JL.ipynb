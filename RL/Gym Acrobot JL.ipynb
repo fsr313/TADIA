{
 "cells": [
  {
   "cell_type": "code",
   "execution_count": 1,
   "metadata": {},
   "outputs": [],
   "source": [
    "using PyCall\n",
    "using PyPlot\n",
    "ioff()"
   ]
  },
  {
   "cell_type": "code",
   "execution_count": 2,
   "metadata": {},
   "outputs": [
    {
     "data": {
      "text/plain": [
       "PyObject <class 'matplotlib.patches.Rectangle'>"
      ]
     },
     "execution_count": 2,
     "metadata": {},
     "output_type": "execute_result"
    }
   ],
   "source": [
    "@pyimport numpy as np\n",
    "@pyimport gym\n",
    "\n",
    "Rectangle = pyimport(\"matplotlib.patches\")[\"Rectangle\"]\n",
    "\n",
    "plt[:style][:use](\"ggplot\")\n",
    "Rectangle"
   ]
  },
  {
   "cell_type": "code",
   "execution_count": 3,
   "metadata": {},
   "outputs": [
    {
     "name": "stdout",
     "output_type": "stream",
     "text": [
      "State space: PyObject Box(6,)\n",
      "-  low: Float32[-1.0, -1.0, -1.0, -1.0, -12.5664, -28.2743]\n",
      "- high: Float32[1.0, 1.0, 1.0, 1.0, 12.5664, 28.2743]\n",
      "Action space: PyObject Discrete(3)\n"
     ]
    }
   ],
   "source": [
    "env = gym.make(\"Acrobot-v1\")\n",
    " \n",
    "env[:seed](505);\n",
    "println(\"State space: \", env[:observation_space])\n",
    "\n",
    "println(\"-  low: \", env[:observation_space][:low])\n",
    "\n",
    "println(\"- high: \", env[:observation_space][:high])\n",
    "println(\"Action space: \", env[:action_space])"
   ]
  },
  {
   "cell_type": "code",
   "execution_count": 4,
   "metadata": {},
   "outputs": [
    {
     "name": "stdout",
     "output_type": "stream",
     "text": [
      "Tiling: [<low>, <high>] / <bins> + (<offset>) => <splits>\n",
      "    [-1.0, 1.0]/10 + (-0.1) => [-0.9, -0.7, -0.5, -0.3, -0.1, 0.1, 0.3, 0.5, 0.7]\n",
      "    [-5.0, 5.0]/10 + (0.5) => [-3.5, -2.5, -1.5, -0.5, 0.5, 1.5, 2.5, 3.5, 4.5]\n"
     ]
    }
   ],
   "source": [
    "function create_tiling_grid(low, high, bins = (10, 10), offsets = (0.0, 0.0))\n",
    "\n",
    "    \n",
    "    grid = [collect(range(low[dim], stop = high[dim], length = bins[dim] + 1))[2:end-1] for dim in 1:length(bins)]\n",
    "\n",
    "    for i in 1:length(bins)\n",
    "        for j in 1:bins[1]-1\n",
    "            grid[i][j] = grid[i][j] + offsets[i]\n",
    "        end\n",
    "    end\n",
    "    println(\"Tiling: [<low>, <high>] / <bins> + (<offset>) => <splits>\")\n",
    "    for (l, h, b, o, splits) in zip(low, high, bins, offsets, grid)\n",
    "        println(\"    [$l, $h]/$b + ($o) => $splits\")\n",
    "    end\n",
    "    return grid\n",
    "end\n",
    "low = [-1.0, -5.0]\n",
    "high = [1.0, 5.0]\n",
    "\n",
    "create_tiling_grid(low, high, (10, 10), (-0.1, 0.5));  # [test]"
   ]
  },
  {
   "cell_type": "code",
   "execution_count": 7,
   "metadata": {},
   "outputs": [
    {
     "data": {
      "text/plain": [
       "8-element Array{Any,1}:\n",
       " Any[Any[1, 1], Any[1, 1], Any[1, 1]]      \n",
       " Any[Any[2, 9], Any[2, 9], Any[1, 8]]      \n",
       " Any[Any[3, 6], Any[3, 5], Any[3, 5]]      \n",
       " Any[Any[7, 4], Any[7, 4], Any[6, 3]]      \n",
       " Any[Any[7, 4], Any[6, 4], Any[6, 3]]      \n",
       " Any[Any[10, 8], Any[9, 8], Any[9, 8]]     \n",
       " Any[Any[9, 2], Any[9, 2], Any[9, 1]]      \n",
       " Any[Any[10, 10], Any[10, 10], Any[10, 10]]"
      ]
     },
     "execution_count": 7,
     "metadata": {},
     "output_type": "execute_result"
    }
   ],
   "source": [
    "function discretize(sample, grid)\n",
    "    list = []\n",
    "    for a in zip(sample,grid)\n",
    "        aux = searchsortedfirst(a[2],a[1])\n",
    "        push!(list,aux)\n",
    "    end\n",
    "\n",
    "    return list\n",
    "end\n",
    "function tile_encode(sample, tilings)\n",
    "    encoded_sample = []\n",
    "    for grid in tilings\n",
    "        aux = discretize(sample,grid)\n",
    "        push!(encoded_sample,aux)\n",
    "    end\n",
    "    \n",
    "    return encoded_sample\n",
    "end\n",
    "samples = [(-1.2 , -5.1 ),\n",
    "           (-0.75,  3.25),\n",
    "           (-0.5 ,  0.0 ),\n",
    "           ( 0.25, -1.9 ),\n",
    "           ( 0.15, -1.75),\n",
    "           ( 0.75,  2.5 ),\n",
    "           ( 0.7 , -3.7 ),\n",
    "           ( 1.0 ,  5.0 )]\n",
    "encoded_samples = []\n",
    "for sample in samples\n",
    "    aux = tile_encode(sample,tilings)\n",
    "    push!(encoded_samples,aux)\n",
    "end\n",
    "encoded_samples"
   ]
  },
  {
   "cell_type": "code",
   "execution_count": 8,
   "metadata": {},
   "outputs": [
    {
     "name": "stdout",
     "output_type": "stream",
     "text": [
      "Tiling: [<low>, <high>] / <bins> + (<offset>) => <splits>\n",
      "    [-1.0, 1.0]/10 + (-0.066) => [-0.866, -0.666, -0.466, -0.266, -0.066, 0.134, 0.334, 0.534, 0.734]\n",
      "    [-5.0, 5.0]/10 + (-0.33) => [-4.33, -3.33, -2.33, -1.33, -0.33, 0.67, 1.67, 2.67, 3.67]\n",
      "Tiling: [<low>, <high>] / <bins> + (<offset>) => <splits>\n",
      "    [-1.0, 1.0]/10 + (0.0) => [-0.8, -0.6, -0.4, -0.2, 0.0, 0.2, 0.4, 0.6, 0.8]\n",
      "    [-5.0, 5.0]/10 + (0.0) => [-4.0, -3.0, -2.0, -1.0, 0.0, 1.0, 2.0, 3.0, 4.0]\n",
      "Tiling: [<low>, <high>] / <bins> + (<offset>) => <splits>\n",
      "    [-1.0, 1.0]/10 + (0.066) => [-0.734, -0.534, -0.334, -0.134, 0.066, 0.266, 0.466, 0.666, 0.866]\n",
      "    [-5.0, 5.0]/10 + (0.33) => [-3.67, -2.67, -1.67, -0.67, 0.33, 1.33, 2.33, 3.33, 4.33]\n"
     ]
    }
   ],
   "source": [
    "function create_tilings(low, high, tiling_specs)\n",
    "    low = convert(Array{Float64,1}, low)\n",
    "    high = convert(Array{Float64,1}, high)\n",
    "    return[create_tiling_grid(low,high,aux[1],aux[2]) for aux in tiling_specs]\n",
    "end\n",
    "tiling_specs = [((10, 10), (-0.066, -0.33)),\n",
    "                ((10, 10), (0.0, 0.0)),\n",
    "                ((10, 10), (0.066, 0.33))]\n",
    "tilings = create_tilings(low, high, tiling_specs);"
   ]
  },
  {
   "cell_type": "code",
   "execution_count": 11,
   "metadata": {},
   "outputs": [
    {
     "name": "stdout",
     "output_type": "stream",
     "text": [
      "Tiling: [<low>, <high>] / <bins> + (<offset>) => <splits>\n",
      "    [-1.0, 1.0]/10 + (-0.066) => [-0.866, -0.666, -0.466, -0.266, -0.066, 0.134, 0.334, 0.534, 0.734]\n",
      "    [-5.0, 5.0]/10 + (-0.33) => [-4.33, -3.33, -2.33, -1.33, -0.33, 0.67, 1.67, 2.67, 3.67]\n",
      "Tiling: [<low>, <high>] / <bins> + (<offset>) => <splits>\n",
      "    [-1.0, 1.0]/10 + (0.0) => [-0.8, -0.6, -0.4, -0.2, 0.0, 0.2, 0.4, 0.6, 0.8]\n",
      "    [-5.0, 5.0]/10 + (0.0) => [-4.0, -3.0, -2.0, -1.0, 0.0, 1.0, 2.0, 3.0, 4.0]\n",
      "Tiling: [<low>, <high>] / <bins> + (<offset>) => <splits>\n",
      "    [-1.0, 1.0]/10 + (0.066) => [-0.734, -0.534, -0.334, -0.134, 0.066, 0.266, 0.466, 0.666, 0.866]\n",
      "    [-5.0, 5.0]/10 + (0.33) => [-3.67, -2.67, -1.67, -0.67, 0.33, 1.33, 2.33, 3.33, 4.33]\n",
      "QTable(): size = (10, 10, 2)\n",
      "QTable(): size = (10, 10, 2)\n",
      "QTable(): size = (10, 10, 2)\n",
      "TiledQTable(): no. of internal tables = 3\n",
      "[GET]    Q( (0.25, -1.9) , 1) = 0.0\n",
      "[UPDATE] Q( (0.15, -1.75) , 1) = 1.0\n",
      "[GET]    Q( (0.25, -1.9) , 1) = 0.06666666666666667\n"
     ]
    }
   ],
   "source": [
    "mutable struct QTable\n",
    "    state_size\n",
    "    action_size\n",
    "    q_table\n",
    "    function QTable(state_size,action_size)\n",
    "        println(\"QTable(): size = \", tuple(state_size..., action_size...))\n",
    "        new(state_size, action_size, zeros(tuple(state_size..., action_size...))) \n",
    "    end\n",
    "end\n",
    "    \n",
    "mutable struct TiledQTable\n",
    "    tilings\n",
    "    state_sizes\n",
    "    action_size\n",
    "    q_tables\n",
    "    function TiledQTable(low, high, tiling_specs, action_size)\n",
    "        tilings = create_tilings(low, high, tiling_specs)\n",
    "        state_sizes = [tuple([length(splits)+1 for splits in tiling_grid]...) for tiling_grid in tilings]\n",
    "        action_size = action_size\n",
    "        q_tables = [QTable(state_size,action_size) for state_size in state_sizes]\n",
    "        println(\"TiledQTable(): no. of internal tables = $(length(q_tables))\")\n",
    "        new(tilings, state_sizes, action_size, q_tables)\n",
    "    end\n",
    "end\n",
    "\n",
    "function getTiledQTable(self, state, action)\n",
    "    encoded_state = tile_encode(state, self.tilings)\n",
    "    value = 0.0\n",
    "    for (idx, q_table) in zip(encoded_state, self.q_tables)\n",
    "        value = value + q_table.q_table[idx..., action]\n",
    "    end\n",
    "    return value/length(self.q_tables)\n",
    "    \n",
    "end\n",
    "\n",
    "\n",
    "\n",
    "\n",
    "function updateTiledQTable(self::TiledQTable, state, action, value, alpha = 0.1)\n",
    "    encoded_state = tile_encode(state, self.tilings)\n",
    "    alphacomp = 1 - alpha\n",
    "    \n",
    "    for (idx,q_table) in zip(encoded_state, self.q_tables)\n",
    "        auxval = q_table.q_table[idx..., action]\n",
    "        q_table.q_table[idx...,action] = (alpha * value) + (alphacomp) * auxval\n",
    "    end\n",
    "end\n",
    "\n",
    "\n",
    "#\n",
    "tq = TiledQTable(low, high, tiling_specs, 2);\n",
    "#println(\"#################################################################\")\n",
    "\n",
    "s1 = 4; s2 = 5; a = 1; q = 1.0\n",
    "\n",
    "\n",
    "\n",
    "println(\"[GET]    Q( $(samples[s1]) , $a) = $(getTiledQTable(tq, samples[s1], a))\") # check value at sample = s1\n",
    "println(\"[UPDATE] Q( $(samples[s2]) , $a) = $q\") \n",
    "updateTiledQTable(tq,samples[s2], a, q)  # update value for sample with some common tile(s)\n",
    "println(\"[GET]    Q( $(samples[s1]) , $a) = $(getTiledQTable(tq, samples[s1], a))\")\n"
   ]
  },
  {
   "cell_type": "code",
   "execution_count": 17,
   "metadata": {},
   "outputs": [
    {
     "data": {
      "text/plain": [
       "act (generic function with 1 method)"
      ]
     },
     "execution_count": 17,
     "metadata": {},
     "output_type": "execute_result"
    }
   ],
   "source": [
    "mutable struct QLearningAgent\n",
    "    env\n",
    "    tq\n",
    "    state_sizes\n",
    "    action_size\n",
    "    alpha\n",
    "    gamma\n",
    "    epsilon\n",
    "    epsilon_decay_rate\n",
    "    min_epsilon\n",
    "    initial_epsilon\n",
    "    last_state\n",
    "    last_action\n",
    "    function QLearningAgent(env, tq, alpha = 0.02, gamma = 0.99,\n",
    "        epsilon = 1.0, epsilon_decay_rate = 1, min_epsilon = 0.01)\n",
    "        \n",
    "        # Environment info\n",
    "        env = env\n",
    "        tq = tq\n",
    "        state_sizes = tq.state_sizes\n",
    "        action_size = env[:action_space][:n]\n",
    "        \n",
    "        # Learning parameters\n",
    "        alpha = alpha\n",
    "        gamma = gamma\n",
    "        epsilon = epsilon\n",
    "        initial_epsilon = epsilon\n",
    "        min_epsilon = min_epsilon\n",
    "        \n",
    "        println(\"Environment: \", env)\n",
    "        println(\"State space sizes: \", state_sizes)\n",
    "        println(\"Action space size: \", action_size)\n",
    "        new(env, tq, state_sizes, action_size, alpha, gamma, epsilon, epsilon_decay_rate, min_epsilon, initial_epsilon,nothing, nothing)\n",
    "    end\n",
    "end\n",
    "function reset_episode(self::QLearningAgent, state)\n",
    "    #reducir gradualmente la exploracion\n",
    "    self.epsilon = self.epsilon * self.epsilon_decay_rate\n",
    "    self.epsilon = max(self.epsilon, self.min_epsilon)\n",
    "    \n",
    "    self.last_state = state\n",
    "    Q_s = [getTiledQTable(self.tq, state, action) for action in 1:length(self.action_size)]\n",
    "    self.last_action = np.argmax(Q_s) + 1\n",
    "    return self.last_action  \n",
    "end\n",
    "\n",
    "function reset_exploration(self::QLearningAgent, epsilon = nothing)\n",
    "    # Reset rate de exploracion\n",
    "    if epsilon == nothing\n",
    "       self.epsilon = self.initial_epsilon \n",
    "    else\n",
    "       self.epsilon = epsilon \n",
    "    end\n",
    "end\n",
    "    \n",
    "\n",
    "function act(self::QLearningAgent, state, reward, mode)\n",
    "    Q_s = [getTiledQTable(self.tq, state, action) for action in 1:self.action_size]\n",
    "    greedy_action = np.argmax(Q_s) + 1\n",
    "    \n",
    "    \n",
    "    if mode == \"test\"\n",
    "        action = greedy_action\n",
    "    else\n",
    "        value = reward + self.gamma * maximum(Q_s)\n",
    "        updateTiledQTable(self.tq, self.last_state, self.last_action, value, self.alpha)\n",
    "        \n",
    "        do_exploration = np.random[:uniform](0,1) < self.epsilon\n",
    "        \n",
    "        if do_exploration\n",
    "            action = np.random[:randint](1, self.action_size + 1)\n",
    "            \n",
    "        else\n",
    "            action = greedy_action\n",
    "            \n",
    "        end\n",
    "    end\n",
    "    self.last_state = state\n",
    "    self.last_action = action\n",
    "    return action\n",
    "end"
   ]
  },
  {
   "cell_type": "code",
   "execution_count": 18,
   "metadata": {},
   "outputs": [
    {
     "name": "stdout",
     "output_type": "stream",
     "text": [
      "Tiling: [<low>, <high>] / <bins> + (<offset>) => <splits>\n",
      "    [-1.0, 1.0]/5 + (-0.13333334028720856) => [-0.733333, -0.333333, 0.0666667, 0.466667]\n",
      "    [-1.0, 1.0]/5 + (-0.13333334028720856) => [-0.733333, -0.333333, 0.0666667, 0.466667]\n",
      "    [-1.0, 1.0]/5 + (-0.13333334028720856) => [-0.733333, -0.333333, 0.0666667, 0.466667]\n",
      "    [-1.0, 1.0]/5 + (-0.13333334028720856) => [-0.733333, -0.333333, 0.0666667, 0.466667]\n",
      "    [-12.566370964050293, 12.566370964050293]/5 + (-1.675516128540039) => [-9.21534, -4.18879, 0.837758, 5.86431]\n",
      "    [-28.274333953857422, 28.274333953857422]/5 + (-3.769911289215088) => [-20.7345, -9.42478, 1.88496, 13.1947]\n",
      "Tiling: [<low>, <high>] / <bins> + (<offset>) => <splits>\n",
      "    [-1.0, 1.0]/5 + (0.0) => [-0.6, -0.2, 0.2, 0.6]\n",
      "    [-1.0, 1.0]/5 + (0.0) => [-0.6, -0.2, 0.2, 0.6]\n",
      "    [-1.0, 1.0]/5 + (0.0) => [-0.6, -0.2, 0.2, 0.6]\n",
      "    [-1.0, 1.0]/5 + (0.0) => [-0.6, -0.2, 0.2, 0.6]\n",
      "    [-12.566370964050293, 12.566370964050293]/5 + (0.0) => [-7.53982, -2.51327, 2.51327, 7.53982]\n",
      "    [-28.274333953857422, 28.274333953857422]/5 + (0.0) => [-16.9646, -5.65487, 5.65487, 16.9646]\n",
      "Tiling: [<low>, <high>] / <bins> + (<offset>) => <splits>\n",
      "    [-1.0, 1.0]/5 + (0.13333334028720856) => [-0.466667, -0.0666667, 0.333333, 0.733333]\n",
      "    [-1.0, 1.0]/5 + (0.13333334028720856) => [-0.466667, -0.0666667, 0.333333, 0.733333]\n",
      "    [-1.0, 1.0]/5 + (0.13333334028720856) => [-0.466667, -0.0666667, 0.333333, 0.733333]\n",
      "    [-1.0, 1.0]/5 + (0.13333334028720856) => [-0.466667, -0.0666667, 0.333333, 0.733333]\n",
      "    [-12.566370964050293, 12.566370964050293]/5 + (1.675516128540039) => [-5.86431, -0.837758, 4.18879, 9.21534]\n",
      "    [-28.274333953857422, 28.274333953857422]/5 + (3.769911289215088) => [-13.1947, -1.88496, 9.42478, 20.7345]\n",
      "QTable(): size = (5, 5, 5, 5, 5, 5, 3)\n",
      "QTable(): size = (5, 5, 5, 5, 5, 5, 3)\n",
      "QTable(): size = (5, 5, 5, 5, 5, 5, 3)\n",
      "TiledQTable(): no. of internal tables = 3\n",
      "Environment: PyObject <TimeLimit<AcrobotEnv<Acrobot-v1>>>\n",
      "State space sizes: NTuple{6,Int64}[(5, 5, 5, 5, 5, 5), (5, 5, 5, 5, 5, 5), (5, 5, 5, 5, 5, 5)]\n",
      "Action space size: 3\n"
     ]
    }
   ],
   "source": [
    "n_bins = 5\n",
    "\n",
    "bins = tuple([n_bins for i in 1:env[:observation_space][:shape][1]]...)\n",
    "\n",
    "\n",
    "\n",
    "offset_pos = (env[:observation_space][:high] - env[:observation_space][:low])/15\n",
    "\n",
    "\n",
    "offset_pos = convert(Array{Float64,1}, offset_pos)\n",
    "\n",
    "tiling_specs = [(bins, -offset_pos), \n",
    "                (bins, tuple([0.0 for i in 1:env[:observation_space][:shape][1]]...)),\n",
    "                (bins, offset_pos)]\n",
    "\n",
    "\n",
    "tq = TiledQTable(env[:observation_space][:low], \n",
    "                 env[:observation_space][:high], \n",
    "                 tiling_specs, \n",
    "                 env[:action_space][:n])\n",
    "\n",
    "\n",
    "agent = QLearningAgent(env, tq);\n"
   ]
  },
  {
   "cell_type": "code",
   "execution_count": 19,
   "metadata": {},
   "outputs": [
    {
     "name": "stdout",
     "output_type": "stream",
     "text": [
      " Episode 10000/10000 | reward: -500.0"
     ]
    }
   ],
   "source": [
    "function run(agent, env, num_episodes = 10000, mode = \"train\")                 \n",
    "    scores = []\n",
    "    for i_episode in 1:num_episodes\n",
    "        state = env[:reset]()\n",
    "        action = reset_episode(agent,state)\n",
    "        total_reward = 0\n",
    "        done = false\n",
    "        \n",
    "        while !done\n",
    "            state, reward, done, info = env[:step](action - 1)\n",
    "            total_reward += reward\n",
    "            action = act(agent,state,reward,mode)\n",
    "        end\n",
    "        append!(scores, total_reward)\n",
    "        print(\"\\r Episode $i_episode/$num_episodes | reward: $total_reward\")\n",
    "    end\n",
    "    return scores\n",
    "end\n",
    "scores = run(agent, env);"
   ]
  },
  {
   "cell_type": "code",
   "execution_count": 36,
   "metadata": {},
   "outputs": [
    {
     "name": "stdout",
     "output_type": "stream",
     "text": [
      "Episode 500 / 500 | Max Average Score: -500.0 /r"
     ]
    }
   ],
   "source": [
    "env = gym.make(\"Acrobot-v1\")\n",
    "\n",
    "state = env[:reset]()\n",
    "score = 0\n",
    "action = act(agent, state, 0, \"train\")\n",
    "for t in 1:500\n",
    "    env[:render]()\n",
    "    state, reward, done, _ = env[:step](action-1)\n",
    "    action = act(agent, state, 0, \"train\")\n",
    "    score += reward\n",
    "    if t % 100 == 0\n",
    "        print(\"\\rEpisode $t / 500 | Max Average Score: $score /r\")\n",
    "    end\n",
    "end\n",
    "env[:close]()"
   ]
  }
 ],
 "metadata": {
  "kernelspec": {
   "display_name": "Julia 1.0.1",
   "language": "julia",
   "name": "julia-1.0"
  },
  "language_info": {
   "file_extension": ".jl",
   "mimetype": "application/julia",
   "name": "julia",
   "version": "1.0.1"
  }
 },
 "nbformat": 4,
 "nbformat_minor": 2
}
