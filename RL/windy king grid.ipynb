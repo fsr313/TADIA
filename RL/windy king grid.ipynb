{
 "cells": [
  {
   "cell_type": "code",
   "execution_count": 1,
   "metadata": {},
   "outputs": [
    {
     "data": {
      "text/plain": [
       "8-element Array{Int64,1}:\n",
       " 1\n",
       " 2\n",
       " 3\n",
       " 4\n",
       " 5\n",
       " 6\n",
       " 7\n",
       " 8"
      ]
     },
     "execution_count": 1,
     "metadata": {},
     "output_type": "execute_result"
    }
   ],
   "source": [
    "WORLD_HEIGHT = 7\n",
    "WORLD_WIDTH = 10\n",
    "WIND = [0, 0, 0, 1, 1, 1, 2, 2, 1, 0]\n",
    "\n",
    "ACTION_UP = 1\n",
    "ACTION_DOWN = 2\n",
    "ACTION_LEFT = 3\n",
    "ACTION_RIGHT = 4\n",
    "ACTION_UP_LEFT = 5\n",
    "ACTION_UP_RIGHT = 6\n",
    "ACTION_DOWN_LEFT = 7\n",
    "ACTION_DOWN_RIGHT = 8\n",
    "\n",
    "EPSILON = 0.1\n",
    "ALPHA = .5\n",
    "REWARD = -1\n",
    "START = [4,1]\n",
    "GOAL = [4,8]\n",
    "ACTIONS = [ACTION_UP,ACTION_DOWN,ACTION_LEFT,ACTION_RIGHT,\n",
    "    ACTION_UP_LEFT,ACTION_UP_RIGHT,ACTION_DOWN_LEFT,ACTION_DOWN_RIGHT]"
   ]
  },
  {
   "cell_type": "code",
   "execution_count": 2,
   "metadata": {},
   "outputs": [
    {
     "data": {
      "text/plain": [
       "step (generic function with 1 method)"
      ]
     },
     "execution_count": 2,
     "metadata": {},
     "output_type": "execute_result"
    }
   ],
   "source": [
    "function step(state, action)\n",
    "    i, j = state\n",
    "    if action == ACTION_UP\n",
    "        return [max(i - 1 - WIND[j], 1), j]\n",
    "        \n",
    "    elseif action == ACTION_DOWN\n",
    "         return [max(min(i + 1 - WIND[j], WORLD_HEIGHT), 1), j]\n",
    "        \n",
    "    elseif action == ACTION_LEFT\n",
    "        return [max(i - WIND[j], 1), max(j - 1, 1)]\n",
    "        \n",
    "    elseif action == ACTION_RIGHT\n",
    "        return [max(i - WIND[j], 1), min(j + 1, WORLD_WIDTH)]\n",
    "        \n",
    "    elseif action == ACTION_UP_LEFT\n",
    "        return [max(i - 1 - WIND[j], 1), max(j - 1, 1)]\n",
    "    \n",
    "    elseif action == ACTION_UP_RIGHT\n",
    "        return [max(i - 1 - WIND[j], 1),min(j + 1, WORLD_WIDTH)]\n",
    "        \n",
    "    elseif action == ACTION_DOWN_LEFT\n",
    "        return [max(min(i + 1 - WIND[j], WORLD_HEIGHT), 1),max(j - 1, 1)]\n",
    "        \n",
    "    elseif action == ACTION_DOWN_RIGHT\n",
    "        return [max(min(i + 1 - WIND[j], WORLD_HEIGHT), 1),min(j + 1, WORLD_WIDTH)]\n",
    "    end\n",
    "end"
   ]
  },
  {
   "cell_type": "code",
   "execution_count": 3,
   "metadata": {},
   "outputs": [
    {
     "data": {
      "text/plain": [
       "2-element Array{Int64,1}:\n",
       " 7\n",
       " 1"
      ]
     },
     "execution_count": 3,
     "metadata": {},
     "output_type": "execute_result"
    }
   ],
   "source": [
    "step([7,1],2)"
   ]
  },
  {
   "cell_type": "code",
   "execution_count": 4,
   "metadata": {},
   "outputs": [
    {
     "data": {
      "text/plain": [
       "episode (generic function with 1 method)"
      ]
     },
     "execution_count": 4,
     "metadata": {},
     "output_type": "execute_result"
    }
   ],
   "source": [
    "function episode(q_value)\n",
    "    # track the total time steps in this episode\n",
    "    time = 0\n",
    "    \n",
    "    # initialize state\n",
    "    state = START\n",
    "    # choose an action based on epsilon-greedy algorithm\n",
    "    if rand(1)[1] < EPSILON\n",
    "        action = ACTIONS[rand(1:4)]\n",
    "    else\n",
    "        values_ = q_value[state[1], state[2], :]\n",
    "        action = []\n",
    "        for i in enumerate(values_)\n",
    "            action_,value_ = i\n",
    "            if value_ == maximum(values_)\n",
    "                push!(action,action_)\n",
    "            end\n",
    "        end\n",
    "        action = action[rand(1:length(action))]\n",
    "    end\n",
    "    \n",
    "    # keep going until get to the goal state\n",
    "    while state != GOAL\n",
    "\n",
    "        next_state = step(state,action)\n",
    "        if rand(1)[1] < EPSILON\n",
    "            next_action = ACTIONS[rand(1:4)]\n",
    "        else\n",
    "            values_ = q_value[next_state[1], next_state[2], :]\n",
    "            next_action = []\n",
    "            for i in enumerate(values_)\n",
    "                action_,value_ = i\n",
    "                if value_ == maximum(values_)\n",
    "                    push!(next_action,action_)\n",
    "                end\n",
    "            end\n",
    "            next_action = next_action[rand(1:length(next_action))]\n",
    "        end\n",
    "        # Sarsa update\n",
    "        q_value[state[1], state[2], action] += ALPHA * (REWARD + q_value[next_state[1], next_state[2], next_action] - q_value[state[1], state[2], action])\n",
    "        state = next_state\n",
    "        action = next_action\n",
    "        time += 1\n",
    "    end\n",
    "\n",
    "    return time\n",
    "end"
   ]
  },
  {
   "cell_type": "code",
   "execution_count": 12,
   "metadata": {},
   "outputs": [
    {
     "data": {
      "text/plain": [
       "figure_6_3 (generic function with 1 method)"
      ]
     },
     "execution_count": 12,
     "metadata": {},
     "output_type": "execute_result"
    }
   ],
   "source": [
    "function figure_6_3()\n",
    "    q_value = zeros((WORLD_HEIGHT,WORLD_WIDTH,4))\n",
    "    episode_limit = 300\n",
    "    q_value\n",
    "    steps = []\n",
    "    ep = 0\n",
    "    while ep < episode_limit\n",
    "        push!(steps,episode(q_value))\n",
    "        ep+=1\n",
    "    end\n",
    "    print(steps)\n",
    "end\n"
   ]
  },
  {
   "cell_type": "code",
   "execution_count": 13,
   "metadata": {},
   "outputs": [
    {
     "name": "stdout",
     "output_type": "stream",
     "text": [
      "Any[489, 601, 149, 134, 303, 183, 107, 99, 65, 104, 33, 106, 128, 64, 32, 39, 80, 48, 89, 84, 49, 218, 80, 23, 28, 72, 50, 59, 50, 30, 33, 89, 53, 30, 25, 67, 30, 41, 133, 25, 30, 38, 25, 36, 73, 80, 166, 58, 83, 54, 27, 35, 46, 27, 26, 70, 63, 35, 21, 51, 20, 29, 29, 27, 33, 37, 71, 68, 110, 66, 21, 32, 35, 63, 28, 38, 30, 17, 35, 35, 20, 29, 28, 24, 21, 55, 24, 20, 46, 23, 37, 24, 19, 30, 33, 27, 32, 21, 21, 23, 27, 36, 19, 24, 20, 18, 27, 21, 25, 22, 22, 28, 21, 23, 22, 25, 17, 23, 30, 19, 17, 16, 32, 29, 18, 20, 35, 28, 22, 28, 19, 18, 15, 22, 23, 16, 29, 16, 20, 23, 25, 19, 22, 16, 24, 28, 16, 21, 30, 25, 26, 16, 17, 47, 18, 24, 15, 16, 15, 27, 22, 18, 22, 29, 18, 15, 15, 16, 18, 21, 20, 17, 15, 16, 18, 15, 19, 18, 21, 20, 44, 16, 16, 19, 17, 19, 18, 21, 16, 22, 17, 21, 16, 18, 18, 18, 18, 22, 16, 24, 22, 27, 23, 17, 16, 18, 31, 20, 36, 19, 26, 16, 18, 20, 17, 16, 15, 22, 42, 19, 19, 17, 27, 16, 19, 24, 26, 39, 23, 17, 15, 20, 19, 18, 17, 15, 15, 15, 19, 16, 17, 15, 18, 18, 20, 19, 16, 21, 16, 21, 16, 29, 19, 22, 17, 18, 23, 24, 16, 19, 23, 30, 18, 18, 16, 15, 17, 16, 20, 20, 17, 17, 21, 18, 17, 16, 20, 19, 19, 20, 18, 15, 15, 18, 15, 20, 15, 20, 30, 15, 35, 17, 15, 16, 31, 17, 15, 17, 17, 15]"
     ]
    }
   ],
   "source": [
    "a = figure_6_3()"
   ]
  },
  {
   "cell_type": "markdown",
   "metadata": {},
   "source": [
    "```python\n",
    "import numpy as np\n",
    "import matplotlib\n",
    "matplotlib.use('Agg')\n",
    "import matplotlib.pyplot as plt\n",
    "\n",
    "# world height\n",
    "WORLD_HEIGHT = 7\n",
    "\n",
    "# world width\n",
    "WORLD_WIDTH = 10\n",
    "\n",
    "# wind strength for each column\n",
    "WIND = [0, 0, 0, 1, 1, 1, 2, 2, 1, 0]\n",
    "\n",
    "# possible actions\n",
    "ACTION_UP = 0\n",
    "ACTION_DOWN = 1\n",
    "ACTION_LEFT = 2\n",
    "ACTION_RIGHT = 3\n",
    "\n",
    "# probability for exploration\n",
    "EPSILON = 0.1\n",
    "\n",
    "# Sarsa step size\n",
    "ALPHA = 0.5\n",
    "\n",
    "# reward for each step\n",
    "REWARD = -1.0\n",
    "\n",
    "START = [3, 0]\n",
    "GOAL = [3, 7]\n",
    "ACTIONS = [ACTION_UP, ACTION_DOWN, ACTION_LEFT, ACTION_RIGHT]\n",
    "\n",
    "def step(state, action):\n",
    "    i, j = state\n",
    "    if action == ACTION_UP:\n",
    "        return [max(i - 1 - WIND[j], 0), j]\n",
    "    elif action == ACTION_DOWN:\n",
    "        return [max(min(i + 1 - WIND[j], WORLD_HEIGHT - 1), 0), j]\n",
    "    elif action == ACTION_LEFT:\n",
    "        return [max(i - WIND[j], 0), max(j - 1, 0)]\n",
    "    elif action == ACTION_RIGHT:\n",
    "        return [max(i - WIND[j], 0), min(j + 1, WORLD_WIDTH - 1)]\n",
    "    else:\n",
    "        assert False\n",
    "\n",
    "# play for an episode\n",
    "def episode(q_value):\n",
    "    # track the total time steps in this episode\n",
    "    time = 0\n",
    "\n",
    "    # initialize state\n",
    "    state = START\n",
    "\n",
    "    # choose an action based on epsilon-greedy algorithm\n",
    "    if np.random.binomial(1, EPSILON) == 1:\n",
    "        action = np.random.choice(ACTIONS)\n",
    "    else:\n",
    "        values_ = q_value[state[0], state[1], :]\n",
    "        action = np.random.choice([action_ for action_, value_ in enumerate(values_) if value_ == np.max(values_)])\n",
    "\n",
    "    # keep going until get to the goal state\n",
    "    while state != GOAL:\n",
    "        next_state = step(state, action)\n",
    "        if np.random.binomial(1, EPSILON) == 1:\n",
    "            next_action = np.random.choice(ACTIONS)\n",
    "        else:\n",
    "            values_ = q_value[next_state[0], next_state[1], :]\n",
    "            next_action = np.random.choice([action_ for action_, value_ in enumerate(values_) if value_ == np.max(values_)])\n",
    "\n",
    "        # Sarsa update\n",
    "        q_value[state[0], state[1], action] += \\\n",
    "            ALPHA * (REWARD + q_value[next_state[0], next_state[1], next_action] -\n",
    "                     q_value[state[0], state[1], action])\n",
    "        state = next_state\n",
    "        action = next_action\n",
    "        time += 1\n",
    "    return time\n",
    "\n",
    "def figure_6_3():\n",
    "    q_value = np.zeros((WORLD_HEIGHT, WORLD_WIDTH, 4))\n",
    "    episode_limit = 500\n",
    "\n",
    "    steps = []\n",
    "    ep = 0\n",
    "    while ep < episode_limit:\n",
    "        steps.append(episode(q_value))\n",
    "        # time = episode(q_value)\n",
    "        # episodes.extend([ep] * time)\n",
    "        ep += 1\n",
    "\n",
    "    steps = np.add.accumulate(steps)\n",
    "\n",
    "    plt.plot(steps, np.arange(1, len(steps) + 1))\n",
    "    plt.xlabel('Time steps')\n",
    "    plt.ylabel('Episodes')\n",
    "\n",
    "    plt.savefig('../images/figure_6_3.png')\n",
    "    plt.close()\n",
    "\n",
    "    # display the optimal policy\n",
    "    optimal_policy = []\n",
    "    for i in range(0, WORLD_HEIGHT):\n",
    "        optimal_policy.append([])\n",
    "        for j in range(0, WORLD_WIDTH):\n",
    "            if [i, j] == GOAL:\n",
    "                optimal_policy[-1].append('G')\n",
    "                continue\n",
    "            bestAction = np.argmax(q_value[i, j, :])\n",
    "            if bestAction == ACTION_UP:\n",
    "                optimal_policy[-1].append('U')\n",
    "            elif bestAction == ACTION_DOWN:\n",
    "                optimal_policy[-1].append('D')\n",
    "            elif bestAction == ACTION_LEFT:\n",
    "                optimal_policy[-1].append('L')\n",
    "            elif bestAction == ACTION_RIGHT:\n",
    "                optimal_policy[-1].append('R')\n",
    "    print('Optimal policy is:')\n",
    "    for row in optimal_policy:\n",
    "        print(row)\n",
    "    print('Wind strength for each column:\\n{}'.format([str(w) for w in WIND]))\n",
    "\n",
    "if __name__ == '__main__':\n",
    "    figure_6_3()\n",
    "```"
   ]
  }
 ],
 "metadata": {
  "kernelspec": {
   "display_name": "Julia 1.0.0",
   "language": "julia",
   "name": "julia-1.0"
  },
  "language_info": {
   "file_extension": ".jl",
   "mimetype": "application/julia",
   "name": "julia",
   "version": "1.0.0"
  }
 },
 "nbformat": 4,
 "nbformat_minor": 2
}
