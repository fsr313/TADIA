{
 "cells": [
  {
   "cell_type": "markdown",
   "metadata": {},
   "source": [
    "# Windy King Grid\n",
    "---\n",
    "Windy King Grid es una nueva implementacion del pasado trabajo Windy grid con una pequena diferencia, simplemente se agregan unas pocas mas acciones que son moverse en diagonales, asi simulando el movimiento de un rey en el ajedrez."
   ]
  },
  {
   "cell_type": "code",
   "execution_count": 1,
   "metadata": {},
   "outputs": [],
   "source": [
    "using PyPlot\n",
    "ioff()"
   ]
  },
  {
   "cell_type": "markdown",
   "metadata": {},
   "source": [
    "aqui solamente agregamos unas pocas acciones"
   ]
  },
  {
   "cell_type": "code",
   "execution_count": 2,
   "metadata": {},
   "outputs": [],
   "source": [
    "WORLD_HEIGHT = 7\n",
    "WORLD_WIDTH = 10\n",
    "WIND = [0, 0, 0, 1, 1, 1, 2, 2, 1, 0]\n",
    "\n",
    "ACTION_UP = 1\n",
    "ACTION_DOWN = 2\n",
    "ACTION_LEFT = 3\n",
    "ACTION_RIGHT = 4\n",
    "ACTION_UP_LEFT = 5\n",
    "ACTION_UP_RIGHT = 6\n",
    "ACTION_DOWN_LEFT = 7\n",
    "ACTION_DOWN_RIGHT = 8\n",
    "\n",
    "EPSILON = 0.1\n",
    "ALPHA = .5\n",
    "REWARD = -1\n",
    "START = [4,1]\n",
    "GOAL = [4,8]\n",
    "ACTIONS = [ACTION_UP,ACTION_DOWN,ACTION_LEFT,ACTION_RIGHT,\n",
    "    ACTION_UP_LEFT,ACTION_UP_RIGHT,ACTION_DOWN_LEFT,ACTION_DOWN_RIGHT];"
   ]
  },
  {
   "cell_type": "markdown",
   "metadata": {},
   "source": [
    "# Paso\n",
    "---\n",
    "Aqui se pone un poco mas interesante, ahora tenemos que definir cada uno de los nuevos pasos dada cada nueva accion, es practicamente lo mismo."
   ]
  },
  {
   "cell_type": "code",
   "execution_count": 3,
   "metadata": {},
   "outputs": [
    {
     "data": {
      "text/plain": [
       "step (generic function with 1 method)"
      ]
     },
     "execution_count": 3,
     "metadata": {},
     "output_type": "execute_result"
    }
   ],
   "source": [
    "function step(state, action)\n",
    "    i, j = state\n",
    "    if action == ACTION_UP\n",
    "        return [max(i - 1 - WIND[j], 1), j]\n",
    "        \n",
    "    elseif action == ACTION_DOWN\n",
    "         return [max(min(i + 1 - WIND[j], WORLD_HEIGHT), 1), j]\n",
    "        \n",
    "    elseif action == ACTION_LEFT\n",
    "        return [max(i - WIND[j], 1), max(j - 1, 1)]\n",
    "        \n",
    "    elseif action == ACTION_RIGHT\n",
    "        return [max(i - WIND[j], 1), min(j + 1, WORLD_WIDTH)]\n",
    "        \n",
    "    elseif action == ACTION_UP_LEFT\n",
    "        return [max(i - 1 - WIND[j], 1), max(j - 1, 1)]\n",
    "    \n",
    "    elseif action == ACTION_UP_RIGHT\n",
    "        return [max(i - 1 - WIND[j], 1),min(j + 1, WORLD_WIDTH)]\n",
    "        \n",
    "    elseif action == ACTION_DOWN_LEFT\n",
    "        return [max(min(i + 1 - WIND[j], WORLD_HEIGHT), 1),max(j - 1, 1)]\n",
    "        \n",
    "    elseif action == ACTION_DOWN_RIGHT\n",
    "        return [max(min(i + 1 - WIND[j], WORLD_HEIGHT), 1),min(j + 1, WORLD_WIDTH)]\n",
    "    end\n",
    "end"
   ]
  },
  {
   "cell_type": "markdown",
   "metadata": {},
   "source": [
    "# Sarsa\n",
    "---\n",
    "solo hay un pequeno cambio, ahora el numero de acciones es mayor, asi que la exploracion cambia en las acciones que puede tomar, fuera de eso no existe cambio fuerte en el algoritmo, el algoritmo de SARSA ahora trabajara en un espacio con 8 acciones en lugar de 4"
   ]
  },
  {
   "cell_type": "code",
   "execution_count": 4,
   "metadata": {},
   "outputs": [
    {
     "data": {
      "text/plain": [
       "episode (generic function with 1 method)"
      ]
     },
     "execution_count": 4,
     "metadata": {},
     "output_type": "execute_result"
    }
   ],
   "source": [
    "function episode(q_value)\n",
    "    # track the total time steps in this episode\n",
    "    time = 0\n",
    "    \n",
    "    # initialize state\n",
    "    state = START\n",
    "    # choose an action based on epsilon-greedy algorithm\n",
    "    if rand(1)[1] < EPSILON\n",
    "        action = ACTIONS[rand(1:8)]\n",
    "    else\n",
    "        values_ = q_value[state[1], state[2], :]\n",
    "        action = []\n",
    "        for i in enumerate(values_)\n",
    "            action_,value_ = i\n",
    "            if value_ == maximum(values_)\n",
    "                push!(action,action_)\n",
    "            end\n",
    "        end\n",
    "        action = action[rand(1:length(action))]\n",
    "    end\n",
    "    \n",
    "    # keep going until get to the goal state\n",
    "    while state != GOAL\n",
    "\n",
    "        next_state = step(state,action)\n",
    "        if rand(1)[1] < EPSILON\n",
    "            next_action = ACTIONS[rand(1:8)]\n",
    "        else\n",
    "            values_ = q_value[next_state[1], next_state[2], :]\n",
    "            next_action = []\n",
    "            for i in enumerate(values_)\n",
    "                action_,value_ = i\n",
    "                if value_ == maximum(values_)\n",
    "                    push!(next_action,action_)\n",
    "                end\n",
    "            end\n",
    "            next_action = next_action[rand(1:length(next_action))]\n",
    "        end\n",
    "        # Sarsa update\n",
    "        q_value[state[1], state[2], action] += ALPHA * (REWARD + q_value[next_state[1], next_state[2], next_action] - q_value[state[1], state[2], action])\n",
    "        state = next_state\n",
    "        action = next_action\n",
    "        time += 1\n",
    "    end\n",
    "\n",
    "    return time\n",
    "end"
   ]
  },
  {
   "cell_type": "code",
   "execution_count": 55,
   "metadata": {},
   "outputs": [
    {
     "data": {
      "text/plain": [
       "print_optimal_policy (generic function with 1 method)"
      ]
     },
     "execution_count": 55,
     "metadata": {},
     "output_type": "execute_result"
    }
   ],
   "source": [
    "#FUNCION PARA IMPRIMIR POLITICA ROBADA ILEGALMENTE DEL RICARDO\n",
    "function print_optimal_policy(q_value)\n",
    "    optimal_policy = []\n",
    "    for i in range(1, stop=WORLD_HEIGHT)\n",
    "        push!(optimal_policy,[])\n",
    "        for j in range(1, stop=WORLD_WIDTH)\n",
    "            if [i, j] == GOAL\n",
    "                append!(optimal_policy[end], \"G \")\n",
    "                continue\n",
    "            end\n",
    "            bestAction = argmax(q_value[i, j, :])\n",
    "            if bestAction == ACTION_UP\n",
    "                append!(optimal_policy[end], \"U \")\n",
    "            elseif bestAction == ACTION_DOWN\n",
    "                append!(optimal_policy[end], \"D \")\n",
    "            elseif bestAction == ACTION_LEFT\n",
    "                append!(optimal_policy[end], \"L \")\n",
    "            elseif bestAction == ACTION_RIGHT\n",
    "                append!(optimal_policy[end], \"R \")\n",
    "            elseif bestAction == ACTION_UP_LEFT\n",
    "                append!(optimal_policy[end], \"UL\")\n",
    "            elseif bestAction == ACTION_UP_RIGHT\n",
    "                append!(optimal_policy[end], \"UR\")\n",
    "            elseif bestAction == ACTION_DOWN_LEFT\n",
    "                append!(optimal_policy[end], \"DL\")\n",
    "            elseif bestAction == ACTION_DOWN_RIGHT\n",
    "                append!(optimal_policy[end], \"DR\")\n",
    "            end\n",
    "        end\n",
    "    end\n",
    "    for row in optimal_policy\n",
    "        println(row)\n",
    "    end\n",
    "end\n"
   ]
  },
  {
   "cell_type": "code",
   "execution_count": 51,
   "metadata": {},
   "outputs": [
    {
     "data": {
      "text/plain": [
       "runagent (generic function with 1 method)"
      ]
     },
     "execution_count": 51,
     "metadata": {},
     "output_type": "execute_result"
    }
   ],
   "source": [
    "function runagent(n)\n",
    "    q_value = zeros((WORLD_HEIGHT,WORLD_WIDTH,8))\n",
    "    episode_limit = 500\n",
    "    steps = []\n",
    "    ep = 0\n",
    "    while ep < n\n",
    "        push!(steps,episode(q_value))\n",
    "        ep+=1\n",
    "    end\n",
    "    println(\"SARSA Optimal Policy:\")\n",
    "    print_optimal_policy(q_value)\n",
    "    println(\"\")\n",
    "    return steps\n",
    "end\n"
   ]
  },
  {
   "cell_type": "code",
   "execution_count": 59,
   "metadata": {},
   "outputs": [
    {
     "name": "stdout",
     "output_type": "stream",
     "text": [
      "Any['U', ' ', 'U', ' ', 'U', ' ', 'U', ' ', 'U', ' ', 'U', ' ', 'U', ' ', 'U', ' ', 'U', ' ', 'U', ' ']\n",
      "Any['U', ' ', 'U', ' ', 'U', ' ', 'U', ' ', 'U', ' ', 'U', ' ', 'U', ' ', 'U', ' ', 'U', ' ', 'U', ' ']\n",
      "Any['U', ' ', 'U', ' ', 'U', ' ', 'U', ' ', 'U', ' ', 'U', ' ', 'U', ' ', 'U', ' ', 'U', ' ', 'U', ' ']\n",
      "Any['U', ' ', 'U', ' ', 'U', ' ', 'U', ' ', 'U', ' ', 'U', ' ', 'U', ' ', 'G', ' ', 'U', ' ', 'U', ' ']\n",
      "Any['U', ' ', 'U', ' ', 'U', ' ', 'U', ' ', 'U', ' ', 'U', ' ', 'U', ' ', 'U', ' ', 'U', ' ', 'U', ' ']\n",
      "Any['U', ' ', 'U', ' ', 'U', ' ', 'U', ' ', 'U', ' ', 'U', ' ', 'U', ' ', 'U', ' ', 'U', ' ', 'U', ' ']\n",
      "Any['U', ' ', 'U', ' ', 'U', ' ', 'U', ' ', 'U', ' ', 'U', ' ', 'U', ' ', 'U', ' ', 'U', ' ', 'U', ' ']\n"
     ]
    }
   ],
   "source": [
    "print_optimal_policy(zeros((WORLD_HEIGHT,WORLD_WIDTH,8)))"
   ]
  },
  {
   "cell_type": "markdown",
   "metadata": {},
   "source": [
    "tras correr nuestro algoritmo esta es nuestra nueva tabla qa diferencia de la de arriba que es la tabla q antes de haber aprendido"
   ]
  },
  {
   "cell_type": "code",
   "execution_count": 70,
   "metadata": {},
   "outputs": [
    {
     "name": "stdout",
     "output_type": "stream",
     "text": [
      "SARSA Optimal Policy:\n",
      "Any['R', ' ', 'L', ' ', 'U', ' ', 'U', 'L', 'U', 'L', 'D', 'R', 'D', 'R', 'D', 'R', 'D', 'R', 'D', 'R']\n",
      "Any['D', 'R', 'D', 'R', 'U', ' ', 'D', 'L', 'D', 'L', 'D', 'R', 'U', 'R', 'R', ' ', 'D', 'R', 'D', ' ']\n",
      "Any['R', ' ', 'D', 'R', 'D', 'L', 'U', 'L', 'R', ' ', 'R', ' ', 'R', ' ', 'U', 'L', 'D', 'R', 'D', 'L']\n",
      "Any['D', 'R', 'D', 'R', 'D', 'R', 'U', ' ', 'L', ' ', 'D', 'R', 'D', 'R', 'G', ' ', 'D', 'L', 'D', 'L']\n",
      "Any['D', 'R', 'D', 'R', 'R', ' ', 'D', 'R', 'D', 'R', 'D', 'R', 'D', 'R', 'D', ' ', 'L', ' ', 'D', 'L']\n",
      "Any['D', ' ', 'D', 'R', 'R', ' ', 'D', 'R', 'D', 'R', 'D', 'R', 'R', ' ', 'D', 'R', 'U', 'L', 'U', ' ']\n",
      "Any['D', 'R', 'R', ' ', 'D', 'R', 'R', ' ', 'D', 'R', 'R', ' ', 'U', 'R', 'U', ' ', 'R', ' ', 'L', ' ']\n",
      "\n"
     ]
    }
   ],
   "source": [
    "y = runagent(300);"
   ]
  },
  {
   "cell_type": "markdown",
   "metadata": {},
   "source": [
    "podemos observar que ahora con las nuevas acciones que tenemos inclusive existen lugares por los cuales nuestro agente nunca pasa, habria que aumentar nuestra exploracion, con el objetivo de que haya mas posibilidad de que recorra mas lugares y aumentar el numero de episodios"
   ]
  },
  {
   "cell_type": "code",
   "execution_count": 69,
   "metadata": {},
   "outputs": [
    {
     "name": "stdout",
     "output_type": "stream",
     "text": [
      "SARSA Optimal Policy:\n",
      "Any['R', ' ', 'D', ' ', 'D', ' ', 'U', ' ', 'R', ' ', 'U', 'R', 'U', 'R', 'R', ' ', 'D', 'R', 'D', 'R']\n",
      "Any['D', 'R', 'L', ' ', 'U', ' ', 'U', 'L', 'D', 'R', 'U', 'R', 'U', 'R', 'D', ' ', 'D', 'R', 'D', 'R']\n",
      "Any['L', ' ', 'D', 'R', 'D', 'L', 'D', 'R', 'R', ' ', 'U', 'R', 'U', 'R', 'D', 'R', 'D', 'R', 'D', ' ']\n",
      "Any['D', 'R', 'D', ' ', 'D', 'L', 'L', ' ', 'R', ' ', 'D', 'R', 'D', 'R', 'G', ' ', 'D', 'L', 'D', 'L']\n",
      "Any['D', 'R', 'D', 'R', 'D', ' ', 'U', 'L', 'D', 'R', 'D', 'R', 'D', 'R', 'D', ' ', 'L', ' ', 'D', 'L']\n",
      "Any['D', 'R', 'D', ' ', 'D', 'R', 'D', 'L', 'R', ' ', 'R', ' ', 'R', ' ', 'D', 'L', 'U', 'L', 'D', ' ']\n",
      "Any['D', 'R', 'R', ' ', 'D', 'R', 'D', 'R', 'U', ' ', 'D', 'R', 'U', 'R', 'D', ' ', 'D', 'L', 'D', 'L']\n",
      "\n"
     ]
    }
   ],
   "source": [
    "EPSILON = .1\n",
    "y = runagent(1000);"
   ]
  },
  {
   "cell_type": "code",
   "execution_count": 68,
   "metadata": {},
   "outputs": [
    {
     "data": {
      "image/png": "[encoded data removed]",
      "text/plain": [
       "Figure(PyObject <Figure size 640x480 with 1 Axes>)"
      ]
     },
     "metadata": {},
     "output_type": "display_data"
    },
    {
     "data": {
      "text/plain": [
       "1-element Array{PyCall.PyObject,1}:\n",
       " PyObject <matplotlib.lines.Line2D object at 0x000000002A15CF98>"
      ]
     },
     "execution_count": 68,
     "metadata": {},
     "output_type": "execute_result"
    }
   ],
   "source": [
    "plt[:title](\"scores\")\n",
    "plt[:xlabel](\"episodio\")\n",
    "plt[:ylabel](\"pasos\")\n",
    "plt[:plot]([i for i in 1:length(y)],y)"
   ]
  },
  {
   "cell_type": "markdown",
   "metadata": {},
   "source": [
    "aunque nuestra tabla_q quede con lugares que no ha recorrido nuestro agente, podemos notar que nuestro agente de igual manera llega rapidamente a un numero de pasos aceptable para solucionar nuestro problema"
   ]
  }
 ],
 "metadata": {
  "kernelspec": {
   "display_name": "Julia 1.0.2",
   "language": "julia",
   "name": "julia-1.0"
  },
  "language_info": {
   "file_extension": ".jl",
   "mimetype": "application/julia",
   "name": "julia",
   "version": "1.0.2"
  }
 },
 "nbformat": 4,
 "nbformat_minor": 2
}
